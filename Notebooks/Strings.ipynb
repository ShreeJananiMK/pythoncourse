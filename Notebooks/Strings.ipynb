{
 "cells": [
  {
   "cell_type": "code",
   "execution_count": 1,
   "id": "5e1c1044",
   "metadata": {},
   "outputs": [],
   "source": [
    "a = \"Janani\"\n",
    "# 0 1 2 3 4 5\n",
    "# J a n a n i"
   ]
  },
  {
   "cell_type": "code",
   "execution_count": 8,
   "id": "a92c66f2",
   "metadata": {},
   "outputs": [
    {
     "name": "stdout",
     "output_type": "stream",
     "text": [
      "n\n",
      "a\n",
      "i\n",
      "a\n"
     ]
    }
   ],
   "source": [
    "a[4]\n",
    "x = 4\n",
    "print(a[x * 1]) # a[4] n\n",
    "print(a[x - 1]) # a[3] a\n",
    "print(a[x + 1]) # a[5] i\n",
    "print(a[int(x / 3)]) # a[1] it will only take integer value as index"
   ]
  },
  {
   "cell_type": "code",
   "execution_count": 9,
   "id": "cef8cbed",
   "metadata": {},
   "outputs": [
    {
     "ename": "IndexError",
     "evalue": "string index out of range",
     "output_type": "error",
     "traceback": [
      "\u001b[0;31m---------------------------------------------------------------------------\u001b[0m",
      "\u001b[0;31mIndexError\u001b[0m                                Traceback (most recent call last)",
      "Cell \u001b[0;32mIn [9], line 1\u001b[0m\n\u001b[0;32m----> 1\u001b[0m \u001b[43ma\u001b[49m\u001b[43m[\u001b[49m\u001b[38;5;241;43m6\u001b[39;49m\u001b[43m]\u001b[49m\n",
      "\u001b[0;31mIndexError\u001b[0m: string index out of range"
     ]
    }
   ],
   "source": [
    "a[6] # indexing above the number of charaters will result in error"
   ]
  },
  {
   "cell_type": "code",
   "execution_count": 11,
   "id": "e7a11d64",
   "metadata": {},
   "outputs": [
    {
     "data": {
      "text/plain": [
       "6"
      ]
     },
     "execution_count": 11,
     "metadata": {},
     "output_type": "execute_result"
    }
   ],
   "source": [
    "len(a) # if accessing a string always make sure that index of access is len - 1"
   ]
  },
  {
   "cell_type": "code",
   "execution_count": 12,
   "id": "2fccc9cc",
   "metadata": {},
   "outputs": [
    {
     "name": "stdout",
     "output_type": "stream",
     "text": [
      "0 b\n",
      "1 a\n",
      "2 n\n",
      "3 a\n",
      "4 n\n",
      "5 a\n"
     ]
    }
   ],
   "source": [
    "fruit = 'banana'\n",
    "index = 0\n",
    "while index < len(fruit): \n",
    "    letter = fruit[index]\n",
    "    print(index, letter)\n",
    "    index = index + 1\n"
   ]
  },
  {
   "cell_type": "code",
   "execution_count": 19,
   "id": "7bb2c233",
   "metadata": {},
   "outputs": [
    {
     "name": "stdout",
     "output_type": "stream",
     "text": [
      "[0, 1, 2, 3, 4, 5, 6, 7, 8, 9]\n",
      "[0, 1, 2, 3, 4, 5, 6, 7, 8, 9]\n",
      "[1, 2, 3, 4, 5, 6, 7, 8, 9]\n",
      "[0, 2, 4, 6, 8]\n",
      "[1, 3, 5, 7, 9]\n"
     ]
    }
   ],
   "source": [
    "# range(start, end, step)\n",
    "print(list(range(10))) # is same as below code\n",
    "print(list(range(0, 10)))\n",
    "print(list(range(1, 10))) # it will always include the start vartiable, but exclude end variable (end - 1)\n",
    "\n",
    "print(list(range(0, 10, 1))) # step/skip is 1 by default which will enable to generate the step of the list \n",
    "print(list(range(0, 10, 2))) # this will step 2 number in every count, hence generating only even numbers\n",
    "print(list(range(1, 10, 2))) # this is to generate odd numbers"
   ]
  },
  {
   "cell_type": "code",
   "execution_count": 20,
   "id": "08274b0b",
   "metadata": {},
   "outputs": [
    {
     "name": "stdout",
     "output_type": "stream",
     "text": [
      "0 b\n",
      "1 a\n",
      "2 n\n",
      "3 a\n",
      "4 n\n",
      "5 a\n"
     ]
    }
   ],
   "source": [
    "fruit = 'banana'\n",
    "\n",
    "for index in range(len(fruit)):\n",
    "    letter = fruit[index]\n",
    "    print(index, letter)\n"
   ]
  },
  {
   "cell_type": "code",
   "execution_count": 21,
   "id": "46a56ba4",
   "metadata": {},
   "outputs": [
    {
     "name": "stdout",
     "output_type": "stream",
     "text": [
      "b\n",
      "a\n",
      "n\n",
      "a\n",
      "n\n",
      "a\n"
     ]
    }
   ],
   "source": [
    "fruit = 'banana'\n",
    "\n",
    "for index in fruit:\n",
    "    print(index)\n"
   ]
  },
  {
   "cell_type": "code",
   "execution_count": 25,
   "id": "35bf41bf",
   "metadata": {},
   "outputs": [
    {
     "name": "stdout",
     "output_type": "stream",
     "text": [
      "35\n",
      "29\n"
     ]
    }
   ],
   "source": [
    "Sample = \"this is a sample hello world string\"\n",
    "print(len(Sample))\n",
    "count = 0\n",
    "for letter in Sample:\n",
    "    if not letter == \" \":\n",
    "        count = count + 1\n",
    "print(count)"
   ]
  },
  {
   "cell_type": "code",
   "execution_count": 37,
   "id": "1edae934",
   "metadata": {},
   "outputs": [
    {
     "name": "stdout",
     "output_type": "stream",
     "text": [
      "Mont\n",
      "P\n",
      "Python\n",
      "Mo\n",
      "thon\n",
      "Monty Python\n",
      "MnyPto\n",
      "M\n",
      "Monty Pyt\n",
      "hon\n",
      "nohtyP ytnoM\n"
     ]
    }
   ],
   "source": [
    "s = 'Monty Python'\n",
    "# -12 -11 -10  -9   -8  -7  -6 -5  -4  -3  -2  -1\n",
    "# 0    1    2   3    4   5  6   7   8   9  10  11\n",
    "# M    o    n   t    y      P   y   t   h   o   n\n",
    "print(s[0:4]) # Mont\n",
    "print(s[6:7]) # P\n",
    "print(s[6:20]) # Python\n",
    "print(s[:2]) # Mo\n",
    "print(s[8:]) # thon\n",
    "print(s[:]) # Monty Python\n",
    "print(s[::2]) # using skip/step will give u charater will no of skip in between\n",
    "\n",
    "print(s[-12]) # negative index will print from the last of the string/list\n",
    "print(s[:-3]) # negative end slice will exclude the last end charaters\n",
    "print(s[-3:]) # negative start slice will give you last start charaters\n",
    "print(s[::-1]) # reverse skip will reverse the string/list order\n"
   ]
  },
  {
   "cell_type": "code",
   "execution_count": 39,
   "id": "53cff459",
   "metadata": {},
   "outputs": [
    {
     "name": "stdout",
     "output_type": "stream",
     "text": [
      "HelloThere\n",
      "Hello There\n"
     ]
    }
   ],
   "source": [
    "a = 'Hello'\n",
    "b = a + 'There'\n",
    "print(b) # HelloThere\n",
    "c = a + ' ' + 'There'\n",
    "print(c) # Hello There\n",
    " \n"
   ]
  },
  {
   "cell_type": "code",
   "execution_count": 53,
   "id": "b75179cf",
   "metadata": {},
   "outputs": [
    {
     "name": "stdout",
     "output_type": "stream",
     "text": [
      "hello there\n",
      "I like Ice Cream, i also like Chocolate, but i hate Coffee\n",
      "I like Ice Cream, i also like Coffee, but i hate Chocolate\n",
      "I like Ice Cream, i also like Chocolate, but i hate Coffee\n",
      "I like Ice Cream, i also like Chocolate, but i hate coffee\n",
      "I like {iceCream}, i also like {chocolate}, but i hate {coffee}\n",
      "I like Ice Cream, i also like Chocolate, but i hate coffee\n"
     ]
    }
   ],
   "source": [
    "# safe concatination (using format)\n",
    "\n",
    "formatString = \"hello {}\".format(\"there\")\n",
    "print(formatString)\n",
    "\n",
    "#                        0               1              2              0           1           2\n",
    "formatString2 = \"I like {}, i also like {}, but i hate {}\".format(\"Ice Cream\", \"Chocolate\", \"Coffee\")\n",
    "print(formatString2)\n",
    "\n",
    "#                        0               1              2              0           1           2\n",
    "formatString3 = \"I like {}, i also like {}, but i hate {}\".format(\"Ice Cream\", \"Coffee\", \"Chocolate\")\n",
    "print(formatString3)\n",
    "\n",
    "\n",
    "formatString3 = \"I like {like1}, i also like {like2}, but i hate {hate1}\".format(\n",
    "    like1=\"Ice Cream\", hate1=\"Coffee\", like2=\"Chocolate\")\n",
    "print(formatString3)\n",
    "\n",
    "coffee = \"coffee\"\n",
    "iceCream = \"Ice Cream\"\n",
    "chocolate = \"Chocolate\"\n",
    "formatString3 = \"I like {like1}, i also like {like2}, but i hate {hate1}\".format(\n",
    "    like1=iceCream, hate1=coffee, like2=chocolate)\n",
    "print(formatString3)\n",
    "\n",
    "formatString4 = \"I like {iceCream}, i also like {chocolate}, but i hate {coffee}\"\n",
    "print(formatString4)\n",
    "\n",
    "formatString5 = \"I like {iceCream}, i also like {chocolate}, but i hate {coffee}\".format(\n",
    "    iceCream=iceCream, chocolate=chocolate, coffee=coffee)\n",
    "print(formatString5)\n"
   ]
  },
  {
   "cell_type": "code",
   "execution_count": 54,
   "id": "d2a3e377",
   "metadata": {},
   "outputs": [
    {
     "data": {
      "text/plain": [
       "True"
      ]
     },
     "execution_count": 54,
     "metadata": {},
     "output_type": "execute_result"
    }
   ],
   "source": [
    "name = \"janani\"\n",
    "sub = \"nan\"\n",
    "sub in name # using the in operator you can check the substring is present in a string"
   ]
  },
  {
   "cell_type": "code",
   "execution_count": 57,
   "id": "09249d76",
   "metadata": {},
   "outputs": [
    {
     "name": "stdout",
     "output_type": "stream",
     "text": [
      "Your word,cat, comes after banana.\n"
     ]
    }
   ],
   "source": [
    "# String comparisons are done based on alphabetical order.\n",
    "# word = \"cat\"\n",
    "word = \"cat\"\n",
    "if word == 'banana':\n",
    "    print('All right, bananas.')\n",
    "\n",
    "if word < 'banana':\n",
    "    print('Your word,' + word + ', comes before banana.')\n",
    "elif word > 'banana':\n",
    "    print('Your word,' + word + ', comes after banana.')\n",
    "else:\n",
    "    print('All right, bananas.')\n"
   ]
  },
  {
   "cell_type": "code",
   "execution_count": 151,
   "id": "bc0976c9",
   "metadata": {},
   "outputs": [
    {
     "name": "stdout",
     "output_type": "stream",
     "text": [
      "['capitalize()', 'casefold()', 'center()', 'count()', 'encode()', 'endswith()', 'expandtabs()', 'find()', 'format()', 'format_map()', 'index()', 'isalnum()', 'isalpha()', 'isascii()', 'isdecimal()', 'isdigit()', 'isidentifier()', 'islower()', 'isnumeric()', 'isprintable()', 'isspace()', 'istitle()', 'isupper()', 'join()', 'ljust()', 'lower()', 'lstrip()', 'maketrans()', 'partition()', 'removeprefix()', 'removesuffix()', 'replace()', 'rfind()', 'rindex()', 'rjust()', 'rpartition()', 'rsplit()', 'rstrip()', 'split()', 'splitlines()', 'startswith()', 'strip()', 'swapcase()', 'title()', 'translate()', 'upper()', 'zfill()']\n"
     ]
    }
   ],
   "source": [
    "word = \"sample\"\n",
    "print([\"{}()\".format(directives) for directives in dir(word) if not directives.startswith(\"__\")])"
   ]
  },
  {
   "cell_type": "code",
   "execution_count": 148,
   "id": "5adb40c3",
   "metadata": {},
   "outputs": [
    {
     "name": "stdout",
     "output_type": "stream",
     "text": [
      "capitalize :Sample world\n",
      "casefold :sample\n",
      "endswith :True\n",
      "index :2\n",
      "isalnum :False\n",
      "isalpha :True\n",
      "isascii :True\n",
      "isdecimal :False\n",
      "isdigit :False\n",
      "isidentifier :True\n",
      "islower :True\n",
      "isnumeric :False\n",
      "isprintable :True\n",
      "isspace :False\n",
      "istitle :False\n",
      "isupper :False\n",
      "join :hello world how are you doing\n",
      "lower :sample\n",
      "partition :('sam', 'p', 'le')\n",
      "removeprefix :ample\n",
      "removesuffix :sampl\n",
      "replace :simple\n",
      "find :3\n",
      "rfind :4\n",
      "index :3\n",
      "rindex :4\n",
      "partition :('sam', 'p', 'ple')\n",
      "rpartition :('samp', 'p', 'le')\n",
      "lstrip :sample\n",
      "rstrip :sample\n",
      "strip :sample\n",
      "split :['sam', '', 'le']\n",
      "rsplit :['sam', '', 'le']\n",
      "splitlines :['sam', 'ple']\n",
      "startswith :True\n",
      "swapcase :SAMPLE\n",
      "swapcase :sample\n",
      "swapcase :Sample\n",
      "title :Sample Sentence\n",
      "upper :SAMPLE\n"
     ]
    }
   ],
   "source": [
    "print('capitalize :' + 'sample world'.capitalize()) # Capitilize starting letter of the string\n",
    "print('casefold :' + 'sample'.casefold()) # reduce the normal string\n",
    "# print('center :' + center('sample'))\n",
    "# print('count :' + str('sample'.count))\n",
    "# print('encode :' + 'sample'.encode()) # used for conversions to various formats\n",
    "print('endswith :' + str('sample'.endswith(\"e\"))) # returns boolean after checking if the strings ends with a given charater\n",
    "# print('expandtabs :' + 'sample'.expandtabs()) # increases space to 4 tabs\n",
    "# print('format :' + 'sample'.format()) # to format a string with {}, {kewyword} place holders\n",
    "# print('format_map :' + 'sample'.format_map()) # to format a string with place holders mapping\n",
    "print('index :' + str('sample'.index('m'))) # returns the index value of the given charater in the string\n",
    "print('isalnum :' + str('##$%$$#d'.isalnum())) # check if the string is made of only alphabets or numerals\n",
    "print('isalpha :' + str('sample'.isalpha())) # checks if ur string contains only alphabets\n",
    "print('isascii :' + str('sample'.isascii())) # Check if string value is in ascii values\n",
    "print('isdecimal :' + str('sample'.isdecimal())) # checks if the string contains floating point values\n",
    "print('isdigit :' + str('sample'.isdigit())) # checks if the string contains digits \n",
    "print('isidentifier :' + str('sample'.isidentifier())) # checks if the string is pointing to a location in the memory\n",
    "print('islower :' + str('sample'.islower())) # check if the string is in lower case\n",
    "print('isnumeric :' + str('sample'.isnumeric())) # checks if a string is number (+,-. imaginary and decimals)\n",
    "print('isprintable :' + str('sample'.isprintable())) # checks if the string is in printable format / encoding\n",
    "print('isspace :' + str('sample'.isspace())) # checks if the string contains white spaces / blank spaces\n",
    "print('istitle :' + str('sample'.istitle())) # check if given is in title case (each word capitalized)\n",
    "print('isupper :' + str('sample'.isupper())) # check where the givn string is upper case\n",
    "print('join :' + ' '.join([\"hello\", \"world\", \"how\", \"are\", \"you\", \"doing\"])) # take a string as an input and joins with the string in between each list item\n",
    "# print('ljust :' + 'sample'.ljust()) # justify on the left side\n",
    "print('lower :' + 'SAMPLE'.lower()) # converts the string to lower case\n",
    "# print('maketrans :' + 'sample'.maketrans(\"p\"))\n",
    "print('partition :' + str('sample'.partition(\"p\"))) # splits the string to parts with the given character, including the given character\n",
    "print('removeprefix :' + str('sample'.removeprefix(\"s\"))) # remove character first charatrer from left to right (begining)\n",
    "print('removesuffix :' + str('sample'.removesuffix(\"e\"))) # remove character first charatrer from right to left (end)\n",
    "print('replace :' + 'sample'.replace(\"a\", \"i\")) # replaces the given character that you want to replace with give character that you want to replace\n",
    "print('find :' + str('sampple'.find('p'))) # find the index of the given character from left to right, -1 if not found \n",
    "print('rfind :' + str('sampple'.rfind('p'))) # find the index of the given character from right to left, -1 if not found \n",
    "print('index :' + str('sampple'.index('p'))) # returns the index value of the given charater in the string from left to right\n",
    "print('rindex :' + str('sampple'.rindex('p'))) # returns the index value of the given charater in the string from right to left\n",
    "# print('rjust :' + 'sample'.rjust())\n",
    "print('partition :' + str('sampple'.partition(\"p\"))) # splits the string to parts with the first occurance of the given character, including the given character from left to right\n",
    "print('rpartition :' + str('sampple'.rpartition(\"p\"))) # splits the string to parts with the first occurance of the given character, including the given character from right to right\n",
    "print('lstrip :' + ' sample'.lstrip()) # Removed white spaces on the left\n",
    "print('rstrip :' + 'sample '.rstrip()) # Removed white spaces on the righy\n",
    "print('strip :' + ' sample '.strip()) # # Removed white spaces on the both side\n",
    "print('split :' + str('sampple'.split('p'))) # will split the string into list after removing all the occurance of the chaarater from left to right\n",
    "print('rsplit :' + str('sampple'.rsplit('p'))) # will split the string into list after removing all the occurance of the chaarater from right to left\n",
    "print('splitlines :' + str('sam\\nple'.splitlines())) # will split by new line characte \\n and returns as list\n",
    "print('startswith :' + str('sample'.startswith('s'))) # check if a string starts with a given character\n",
    "print('swapcase :' + 'sample'.swapcase()) # swaps lower to upper and vise vera\n",
    "print('swapcase :' + 'SAMPLE'.swapcase())\n",
    "print('swapcase :' + 'sAMPLE'.swapcase()) # swaps a string character to character, case to case\n",
    "print('title :' + 'sample sentence'.title()) # converts a string to title case (capitalize every first character in the word)\n",
    "# print('translate :' + 'sample'.translate())\n",
    "print('upper :' + 'sample'.upper()) # converts to upper case charater\n",
    "# print('zfill :' + 'sample'.zfill())\n"
   ]
  },
  {
   "cell_type": "code",
   "execution_count": 137,
   "id": "7ab9e322",
   "metadata": {},
   "outputs": [
    {
     "data": {
      "text/plain": [
       "['', 'hello world', 'how are you ', 'i am fine']"
      ]
     },
     "execution_count": 137,
     "metadata": {},
     "output_type": "execute_result"
    }
   ],
   "source": [
    "# 0 1 2 3 4 5 6\n",
    "# s a m p p l e\n",
    "\"\"\"\n",
    "hello world\n",
    "how are you \n",
    "i am fine\n",
    "\"\"\".splitlines()"
   ]
  },
  {
   "cell_type": "code",
   "execution_count": null,
   "id": "731dbecd",
   "metadata": {},
   "outputs": [],
   "source": []
  }
 ],
 "metadata": {
  "kernelspec": {
   "display_name": "Python 3 (ipykernel)",
   "language": "python",
   "name": "python3"
  },
  "language_info": {
   "codemirror_mode": {
    "name": "ipython",
    "version": 3
   },
   "file_extension": ".py",
   "mimetype": "text/x-python",
   "name": "python",
   "nbconvert_exporter": "python",
   "pygments_lexer": "ipython3",
   "version": "3.10.6"
  }
 },
 "nbformat": 4,
 "nbformat_minor": 5
}
