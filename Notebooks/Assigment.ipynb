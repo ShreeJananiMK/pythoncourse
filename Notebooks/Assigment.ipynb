{
 "cells": [
  {
   "cell_type": "code",
   "execution_count": 2,
   "id": "1b4eb074",
   "metadata": {},
   "outputs": [],
   "source": [
    "d = [9, 41, 12, 3, 74, 15]"
   ]
  },
  {
   "cell_type": "code",
   "execution_count": 3,
   "id": "28189b60",
   "metadata": {},
   "outputs": [],
   "source": [
    "# [3, 9, 12, 15, 41, 74]\n",
    "# new list = []\n",
    "# for items in list: \n",
    "#   if items not in new list\n",
    "#     find_smallerNumber() -> add to new list\n",
    "    "
   ]
  },
  {
   "cell_type": "code",
   "execution_count": null,
   "id": "f5a43cc6",
   "metadata": {},
   "outputs": [],
   "source": []
  }
 ],
 "metadata": {
  "kernelspec": {
   "display_name": "Python 3 (ipykernel)",
   "language": "python",
   "name": "python3"
  },
  "language_info": {
   "codemirror_mode": {
    "name": "ipython",
    "version": 3
   },
   "file_extension": ".py",
   "mimetype": "text/x-python",
   "name": "python",
   "nbconvert_exporter": "python",
   "pygments_lexer": "ipython3",
   "version": "3.10.0"
  }
 },
 "nbformat": 4,
 "nbformat_minor": 5
}
