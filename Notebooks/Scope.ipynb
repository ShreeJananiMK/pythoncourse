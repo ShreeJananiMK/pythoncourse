{
 "cells": [
  {
   "cell_type": "code",
   "execution_count": 35,
   "id": "4d5cfa41",
   "metadata": {},
   "outputs": [],
   "source": [
    "a = 1\n",
    "b = 2\n",
    "\n",
    "class example():\n",
    "    a = 3\n",
    "    b = 4\n",
    "    \n",
    "    def example1(self): \n",
    "        print(a, b)\n",
    "    \n",
    "    def example2(self):\n",
    "        print(self.a, self.b) # inside class use self\n",
    "        \n",
    "    def example3(self):\n",
    "        a = 8\n",
    "        b = 9\n",
    "        print(a, b)\n",
    "\n",
    "def example3():\n",
    "    d = 6\n",
    "    e = 7\n",
    "    print(d, e)\n",
    "\n"
   ]
  },
  {
   "cell_type": "code",
   "execution_count": 25,
   "id": "a22107b2",
   "metadata": {},
   "outputs": [
    {
     "name": "stdout",
     "output_type": "stream",
     "text": [
      "1 2\n"
     ]
    }
   ],
   "source": [
    "print(a, b)"
   ]
  },
  {
   "cell_type": "code",
   "execution_count": 26,
   "id": "9079106e",
   "metadata": {},
   "outputs": [
    {
     "name": "stdout",
     "output_type": "stream",
     "text": [
      "1 2\n"
     ]
    }
   ],
   "source": [
    "e = example()\n",
    "e.example1()"
   ]
  },
  {
   "cell_type": "code",
   "execution_count": 27,
   "id": "18dde7e2",
   "metadata": {},
   "outputs": [
    {
     "name": "stdout",
     "output_type": "stream",
     "text": [
      "3 4\n"
     ]
    }
   ],
   "source": [
    "e.example2()"
   ]
  },
  {
   "cell_type": "code",
   "execution_count": 28,
   "id": "c3b240db",
   "metadata": {},
   "outputs": [],
   "source": [
    "example3()"
   ]
  },
  {
   "cell_type": "code",
   "execution_count": 29,
   "id": "c6d73123",
   "metadata": {},
   "outputs": [
    {
     "ename": "NameError",
     "evalue": "name 'd' is not defined",
     "output_type": "error",
     "traceback": [
      "\u001b[0;31m---------------------------------------------------------------------------\u001b[0m",
      "\u001b[0;31mNameError\u001b[0m                                 Traceback (most recent call last)",
      "Cell \u001b[0;32mIn [29], line 1\u001b[0m\n\u001b[0;32m----> 1\u001b[0m \u001b[38;5;28mprint\u001b[39m(\u001b[43md\u001b[49m, e)\n",
      "\u001b[0;31mNameError\u001b[0m: name 'd' is not defined"
     ]
    }
   ],
   "source": [
    "print(d, e)"
   ]
  },
  {
   "cell_type": "code",
   "execution_count": 30,
   "id": "8a1c51d9",
   "metadata": {},
   "outputs": [
    {
     "name": "stdout",
     "output_type": "stream",
     "text": [
      "8 9\n",
      "3 4\n",
      "1 2\n"
     ]
    }
   ],
   "source": [
    "e.example3()\n",
    "print(e.a, e.b) #  outside use instance\n",
    "print(a,b)"
   ]
  },
  {
   "cell_type": "code",
   "execution_count": null,
   "id": "dbbfa866",
   "metadata": {},
   "outputs": [],
   "source": [
    "first\n",
    "    def functiion\n",
    "function()"
   ]
  }
 ],
 "metadata": {
  "kernelspec": {
   "display_name": "Python 3 (ipykernel)",
   "language": "python",
   "name": "python3"
  },
  "language_info": {
   "codemirror_mode": {
    "name": "ipython",
    "version": 3
   },
   "file_extension": ".py",
   "mimetype": "text/x-python",
   "name": "python",
   "nbconvert_exporter": "python",
   "pygments_lexer": "ipython3",
   "version": "3.10.6"
  }
 },
 "nbformat": 4,
 "nbformat_minor": 5
}
