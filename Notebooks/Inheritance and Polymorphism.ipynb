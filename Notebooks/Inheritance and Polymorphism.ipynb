{
 "cells": [
  {
   "cell_type": "code",
   "execution_count": 67,
   "id": "97eaa50a",
   "metadata": {},
   "outputs": [],
   "source": [
    "class Vechicle(): # pascal case for class\n",
    "    wheels = 0 # Camel case for variable\n",
    "    length = 0\n",
    "    width = 0\n",
    "    _keyIn = False # _<variable> is notation for private variables\n",
    "    \n",
    "    def __init__(self, wheels, length, width): # __init__ is called constructor\n",
    "        print(\"new Vechicle initialized\")\n",
    "        self.wheels = wheels \n",
    "        self.length = length\n",
    "        self.width = width\n",
    "        \n",
    "    def runVechile(self): # camel case for functions\n",
    "        print(\"called runVechile()\")\n",
    "        self._startEngine()\n",
    "        self._rotateWheels()\n",
    "        self._moveVechile()\n",
    "        \n",
    "    def stopVechile(self):\n",
    "        print(\"called stopVechile()\")\n",
    "        self._applyBrakes()\n",
    "        self._getTOidle()\n",
    "        \n",
    "    def _startEngine(self): # _<function name> is a notation for private method\n",
    "        print(\"called _startEngine()\")\n",
    "    \n",
    "    def _rotateWheels(self):\n",
    "        print(\"called _rotateWheels()\")\n",
    "    \n",
    "    def _moveVechile(self):\n",
    "        print(\"called _moveVechile()\")\n",
    "    \n",
    "    def _applyBrakes(self):\n",
    "        print(\"called _applyBrakes()\")\n",
    "    \n",
    "    def _getTOidle(self):\n",
    "        print(\"called _getTOidle()\")\n",
    "        \n",
    "\n",
    "class Bike(Vechicle):\n",
    "    gear = 6\n",
    "        \n",
    "    def __init__(self, length, width, gear):\n",
    "        self.wheels = 2\n",
    "        self.gear = gear\n",
    "        super(Bike, self).__init__(self.wheels, length, width)\n",
    "        \n",
    "    def stopVechile(self): # function overridding\n",
    "        super().stopVechile()\n",
    "        print(\"called Bike's stopVechile()\")\n",
    "        self._applyBrakes()\n",
    "        self._getTOidle()\n",
    "        \n",
    "    def stopVechile(self, apply): # Function overloading\n",
    "        print(\"called stopVechile over loaded method\")\n",
    "    \n",
    "    def stopVechile(self, apply, apply2): # Function overloading\n",
    "        print(\"called stopVechile 2nd over loaded method\")\n",
    "    \n",
    "    \n",
    "        \n",
    "        \n",
    "        "
   ]
  },
  {
   "cell_type": "code",
   "execution_count": 68,
   "id": "b8435d74",
   "metadata": {},
   "outputs": [
    {
     "name": "stdout",
     "output_type": "stream",
     "text": [
      "new Vechicle initialized\n",
      "10\n"
     ]
    }
   ],
   "source": [
    "activa = Vechicle(2, 100, 10)\n",
    "print(activa.width)"
   ]
  },
  {
   "cell_type": "code",
   "execution_count": 69,
   "id": "d469d2f3",
   "metadata": {},
   "outputs": [
    {
     "name": "stdout",
     "output_type": "stream",
     "text": [
      "new Vechicle initialized\n",
      "6\n",
      "called stopVechile 2nd over loaded method\n"
     ]
    }
   ],
   "source": [
    "platina = Bike(length = 100, width = 10, gear = 6)\n",
    "print(platina.gear)\n",
    "\n",
    "platina.stopVechile(True, True)"
   ]
  },
  {
   "cell_type": "code",
   "execution_count": 73,
   "id": "685bfab9",
   "metadata": {},
   "outputs": [
    {
     "data": {
      "text/plain": [
       "True"
      ]
     },
     "execution_count": 73,
     "metadata": {},
     "output_type": "execute_result"
    }
   ],
   "source": [
    "isinstance(activa, Vechicle)"
   ]
  },
  {
   "cell_type": "code",
   "execution_count": 74,
   "id": "674c9ef6",
   "metadata": {},
   "outputs": [
    {
     "data": {
      "text/plain": [
       "False"
      ]
     },
     "execution_count": 74,
     "metadata": {},
     "output_type": "execute_result"
    }
   ],
   "source": [
    "isinstance(activa, Bike)"
   ]
  },
  {
   "cell_type": "code",
   "execution_count": 75,
   "id": "6fd5cbfe",
   "metadata": {},
   "outputs": [
    {
     "data": {
      "text/plain": [
       "True"
      ]
     },
     "execution_count": 75,
     "metadata": {},
     "output_type": "execute_result"
    }
   ],
   "source": [
    "isinstance(platina, Bike)"
   ]
  },
  {
   "cell_type": "code",
   "execution_count": 76,
   "id": "0edab440",
   "metadata": {},
   "outputs": [
    {
     "data": {
      "text/plain": [
       "True"
      ]
     },
     "execution_count": 76,
     "metadata": {},
     "output_type": "execute_result"
    }
   ],
   "source": [
    "isinstance(platina, Vechicle)"
   ]
  },
  {
   "cell_type": "code",
   "execution_count": null,
   "id": "232132c4",
   "metadata": {},
   "outputs": [],
   "source": [
    "# OOPS Concept\n",
    "\n",
    "# Abstraction\n",
    "# Inheritence\n",
    "# Encapsulation\n",
    "# Polymorphism\n",
    "# Function Overriding\n",
    "# function Overloading\n",
    "\n",
    "# HTTP Methods\n",
    "# Difference between HTTP and HTTPS\n",
    "\n",
    "# when to use Pascal case and Camel Case\n",
    "# All caps for constants\n",
    "\n",
    "# define various scope"
   ]
  }
 ],
 "metadata": {
  "kernelspec": {
   "display_name": "Python 3 (ipykernel)",
   "language": "python",
   "name": "python3"
  },
  "language_info": {
   "codemirror_mode": {
    "name": "ipython",
    "version": 3
   },
   "file_extension": ".py",
   "mimetype": "text/x-python",
   "name": "python",
   "nbconvert_exporter": "python",
   "pygments_lexer": "ipython3",
   "version": "3.10.6"
  }
 },
 "nbformat": 4,
 "nbformat_minor": 5
}
