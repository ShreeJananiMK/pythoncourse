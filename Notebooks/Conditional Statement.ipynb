{
 "cells": [
  {
   "cell_type": "code",
   "execution_count": 5,
   "id": "e0190158",
   "metadata": {},
   "outputs": [
    {
     "name": "stdout",
     "output_type": "stream",
     "text": [
      "Before 5\n",
      "Is 5\n",
      "Is Still 5\n",
      "Third 5\n",
      "Afterwards 5\n",
      "Before 6\n",
      "Afterwards 6\n"
     ]
    }
   ],
   "source": [
    "x = 5\n",
    "print('Before 5')\n",
    "if  x == 5 :\n",
    "    # begins if block\n",
    "    print('Is 5')\n",
    "    print('Is Still 5')\n",
    "    print('Third 5')\n",
    "    # end of if block\n",
    "    \n",
    "print('Afterwards 5')\n",
    "print('Before 6')\n",
    "if x == 6 :\n",
    "    print('Is 6')\n",
    "    print('Is Still 6')\n",
    "    print('Third 6')\n",
    "    \n",
    "print('Afterwards 6')\n"
   ]
  },
  {
   "cell_type": "code",
   "execution_count": 7,
   "id": "5d13240b",
   "metadata": {},
   "outputs": [
    {
     "name": "stdout",
     "output_type": "stream",
     "text": [
      "Hello World\n",
      "Hello World\n"
     ]
    }
   ],
   "source": [
    "if True:\n",
    "  print(\"Hello World\")\n",
    "\n",
    "if True:\n",
    " print(\"Hello World\")"
   ]
  },
  {
   "cell_type": "code",
   "execution_count": 9,
   "id": "c4d525d3",
   "metadata": {},
   "outputs": [],
   "source": [
    "# \\t (Tab)      -> use 2 char\n",
    "# \" \" (Space)   -> use 1 char\n",
    "# in visual studio code or other IDE (Integrated Development Environment) \n",
    "# uses consistant space or tab for all code maintaining uniformity\n",
    "\n",
    "# Use 4 spaces for better readblity\n",
    "# Use tab for lower file size\n",
    "# single space can also use less space"
   ]
  },
  {
   "cell_type": "code",
   "execution_count": 12,
   "id": "4f9c465c",
   "metadata": {},
   "outputs": [
    {
     "name": "stdout",
     "output_type": "stream",
     "text": [
      "More than one\n",
      "All done\n"
     ]
    }
   ],
   "source": [
    "x = 42\n",
    "if x > 40 :\n",
    "    print('More than one')\n",
    "    if x < 40 : \n",
    "        print('Less than 100') \n",
    "print('All done')\n"
   ]
  },
  {
   "cell_type": "code",
   "execution_count": 25,
   "id": "bb2cc614",
   "metadata": {},
   "outputs": [
    {
     "name": "stdout",
     "output_type": "stream",
     "text": [
      "First -1\n"
     ]
    }
   ],
   "source": [
    "astr = 'Hello Bob'\n",
    "try:\n",
    "    istr2 = int(astr)\n",
    "except:\n",
    "    istr2 = -1\n",
    "\n",
    "print('First', istr2)\n",
    "\n"
   ]
  },
  {
   "cell_type": "code",
   "execution_count": 26,
   "id": "32b7a279",
   "metadata": {},
   "outputs": [
    {
     "name": "stdout",
     "output_type": "stream",
     "text": [
      "Second 123\n"
     ]
    }
   ],
   "source": [
    "astr = '123'\n",
    "try:\n",
    "    istr1 = int(astr)\n",
    "except:\n",
    "    istr1 = -1\n",
    "\n",
    "print('Second', istr1)\n"
   ]
  },
  {
   "cell_type": "code",
   "execution_count": 28,
   "id": "2b565382",
   "metadata": {},
   "outputs": [
    {
     "name": "stdout",
     "output_type": "stream",
     "text": [
      "Hello\n",
      "There\n",
      "Done 123\n"
     ]
    }
   ],
   "source": [
    "astr = '123'\n",
    "try:\n",
    "    print('Hello') \n",
    "    istr = int(astr)\n",
    "    print('There') \n",
    "except:\n",
    "    istr = -1\n",
    "\n",
    "print('Done', istr) \n"
   ]
  },
  {
   "cell_type": "code",
   "execution_count": 32,
   "id": "c1da0cc1",
   "metadata": {},
   "outputs": [
    {
     "name": "stdout",
     "output_type": "stream",
     "text": [
      "Enter the hour value: 45\n",
      "Enter the rate value: 10\n",
      "Pay: 475.0\n"
     ]
    }
   ],
   "source": [
    "pay = 0\n",
    "\n",
    "try:\n",
    "    hours = float(input(\"Enter the hour value: \"))\n",
    "    rate = float(input(\"Enter the rate value: \"))\n",
    "except:\n",
    "    print(\"Eter numbers only\")\n",
    "\n",
    "if hours > 40:\n",
    "    extra = hours - 40\n",
    "    pay = (40 * rate) + (extra * (rate * 1.5))\n",
    "else:\n",
    "    pay = hours * rate\n",
    "\n",
    "print('Pay: ' + str(pay))"
   ]
  },
  {
   "cell_type": "code",
   "execution_count": null,
   "id": "21a99d43",
   "metadata": {},
   "outputs": [],
   "source": []
  }
 ],
 "metadata": {
  "kernelspec": {
   "display_name": "Python 3 (ipykernel)",
   "language": "python",
   "name": "python3"
  },
  "language_info": {
   "codemirror_mode": {
    "name": "ipython",
    "version": 3
   },
   "file_extension": ".py",
   "mimetype": "text/x-python",
   "name": "python",
   "nbconvert_exporter": "python",
   "pygments_lexer": "ipython3",
   "version": "3.10.6"
  }
 },
 "nbformat": 4,
 "nbformat_minor": 5
}
