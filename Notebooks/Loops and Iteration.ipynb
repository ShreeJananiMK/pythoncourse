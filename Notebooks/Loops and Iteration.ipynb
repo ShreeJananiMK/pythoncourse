{
 "cells": [
  {
   "cell_type": "code",
   "execution_count": 2,
   "id": "bb6a2761",
   "metadata": {},
   "outputs": [
    {
     "name": "stdout",
     "output_type": "stream",
     "text": [
      "5\n",
      "4\n",
      "3\n",
      "2\n",
      "1\n",
      "Blastoff!\n",
      "0\n"
     ]
    }
   ],
   "source": [
    "n = 5\n",
    "while n > 0 :  \n",
    "    print(n)\n",
    "    n = n - 1\n",
    "\n",
    "\n",
    "print('Blastoff!')\n",
    "print(n)\n"
   ]
  },
  {
   "cell_type": "code",
   "execution_count": 7,
   "id": "6b76bd9d",
   "metadata": {},
   "outputs": [
    {
     "name": "stdout",
     "output_type": "stream",
     "text": [
      "5\n",
      "4\n",
      "3\n",
      "2\n",
      "1\n",
      "Blastoff!\n",
      "0\n"
     ]
    }
   ],
   "source": [
    "n = 5\n",
    "while True:  \n",
    "    print(n)\n",
    "    n = n - 1\n",
    "    if n <= 0:\n",
    "        break\n",
    "\n",
    "\n",
    "print('Blastoff!')\n",
    "print(n)"
   ]
  },
  {
   "cell_type": "code",
   "execution_count": 3,
   "id": "2e1cafad",
   "metadata": {},
   "outputs": [],
   "source": [
    "# Iteration 1: n = 5 -> 5 > 0 -> execute loop -> print(n=5) -> n = n - 1 (n=5-1) -> n = 4\n",
    "# Iteration 2: n = 4 -> 4 > 0 -> execute loop -> print(n=4) -> n = n - 1 (n=4-1) -> n = 3\n",
    "# Iteration 3: n = 3 -> 3 > 0 -> execute loop -> print(n=3) -> n = n - 1 (n=3-1) -> n = 2\n",
    "# Iteration 4: n = 2 -> 2 > 0 -> execute loop -> print(n=2) -> n = n - 1 (n=2-1) -> n = 1\n",
    "# Iteration 5: n = 1 -> 1 > 0 -> execute loop -> print(n=1) -> n = n - 1 (n=1-1) -> n = 0\n",
    "# Iteration 6: n = 1 -> 0 > 0 -> Break loop \n",
    "# print(\"Blastoff\"!)\n",
    "# print(n=0)"
   ]
  },
  {
   "cell_type": "code",
   "execution_count": null,
   "id": "daf3ba83",
   "metadata": {},
   "outputs": [],
   "source": [
    "# while <boolean expression/condition>:\n",
    "#     looping statement\n",
    "\n",
    "# You can use true directly as well, which will result in infite loop, false would not execute the loop\n",
    "# When adding a condition to while loop, it must be resolved at some point so the look can break out\n",
    "# If the condition is never going to be satisfied, it will result in infinite look"
   ]
  },
  {
   "cell_type": "code",
   "execution_count": null,
   "id": "433200a8",
   "metadata": {},
   "outputs": [],
   "source": [
    "while True:\n",
    "    line = input('> ')\n",
    "    if line == 'done':\n",
    "        break\n",
    "    print(line)\n",
    "print('Done!')\n",
    "\n",
    "\n",
    "while True:\n",
    "    line = input('> ')\n",
    "    if line[0] == '#' :\n",
    "        continue\n",
    "    if line == 'done' :\n",
    "        break\n",
    "    print(line)\n",
    "print('Done!')"
   ]
  },
  {
   "cell_type": "code",
   "execution_count": 8,
   "id": "b0821464",
   "metadata": {},
   "outputs": [
    {
     "name": "stdout",
     "output_type": "stream",
     "text": [
      "5\n",
      "4\n",
      "3\n",
      "2\n",
      "1\n",
      "Blastoff!\n",
      "1\n"
     ]
    }
   ],
   "source": [
    "for i in [5, 4, 3, 2, 1] :\n",
    "    print(i)\n",
    "print('Blastoff!')\n",
    "print(i)"
   ]
  },
  {
   "cell_type": "code",
   "execution_count": 9,
   "id": "e46dc5cf",
   "metadata": {},
   "outputs": [
    {
     "name": "stdout",
     "output_type": "stream",
     "text": [
      "Happy New Year: Joseph\n",
      "Happy New Year: Glenn\n",
      "Happy New Year: Sally\n",
      "Done!\n"
     ]
    }
   ],
   "source": [
    "friends = ['Joseph', 'Glenn', 'Sally']\n",
    "for friend in friends: \n",
    "   print('Happy New Year:', friend)\n",
    "print('Done!')\n",
    "\n",
    "# for friend in friends: -> for friend in ['Joseph', 'Glenn', 'Sally']\n",
    "# 1 iteration friend = \"Joseph\" -> print('Happy New Year:', friend=\"Joseph\")\n",
    "# 2 iteration friend = \"Glenn\" -> print('Happy New Year:', friend=\"Glenn\")\n",
    "# 3 iteration friend = \"Sally\" -> print('Happy New Year:', friend=\"Sally\")\n",
    "# Print \"Done!\""
   ]
  },
  {
   "cell_type": "code",
   "execution_count": null,
   "id": "79ffdcb0",
   "metadata": {},
   "outputs": [],
   "source": []
  }
 ],
 "metadata": {
  "kernelspec": {
   "display_name": "Python 3 (ipykernel)",
   "language": "python",
   "name": "python3"
  },
  "language_info": {
   "codemirror_mode": {
    "name": "ipython",
    "version": 3
   },
   "file_extension": ".py",
   "mimetype": "text/x-python",
   "name": "python",
   "nbconvert_exporter": "python",
   "pygments_lexer": "ipython3",
   "version": "3.10.6"
  }
 },
 "nbformat": 4,
 "nbformat_minor": 5
}
