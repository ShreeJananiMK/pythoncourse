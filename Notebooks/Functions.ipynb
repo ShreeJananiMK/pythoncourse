{
 "cells": [
  {
   "cell_type": "code",
   "execution_count": 28,
   "id": "ea15c122",
   "metadata": {},
   "outputs": [],
   "source": [
    "# function Arguments\n",
    "def example(parameter1, parameter2):\n",
    "    print(\"parameter1:\", parameter1)\n",
    "    print(\"parameter2:\", parameter2)"
   ]
  },
  {
   "cell_type": "code",
   "execution_count": 29,
   "id": "75da2121",
   "metadata": {},
   "outputs": [
    {
     "name": "stdout",
     "output_type": "stream",
     "text": [
      "parameter1: janani\n",
      "parameter2: aishu\n"
     ]
    }
   ],
   "source": [
    "example(\"janani\", \"aishu\")"
   ]
  },
  {
   "cell_type": "code",
   "execution_count": 30,
   "id": "98ee1cd1",
   "metadata": {},
   "outputs": [
    {
     "name": "stdout",
     "output_type": "stream",
     "text": [
      "[5, 6, 3, 9, 1, 8]\n",
      "<class 'str'>\n",
      "563918\n",
      "hello world\n"
     ]
    }
   ],
   "source": [
    "# List of numbers\n",
    "numLst = [5, 6, 3, 9, 1, 8]\n",
    "print(numLst)\n",
    "\n",
    "# Converting List of numbers to a strinbg\n",
    "numStrLst = \"\".join(list(map(str, numLst)))\n",
    "print(type(numStrLst))\n",
    "print(numStrLst)\n",
    "\n",
    "# Basic String\n",
    "wrdLst = \"hello world\"\n",
    "print(wrdLst)\n"
   ]
  },
  {
   "cell_type": "code",
   "execution_count": 31,
   "id": "3a67059c",
   "metadata": {},
   "outputs": [
    {
     "name": "stdout",
     "output_type": "stream",
     "text": [
      "9\n",
      "9\n",
      "w\n"
     ]
    }
   ],
   "source": [
    "# max of number in a list\n",
    "print(max(numLst))\n",
    "\n",
    "# Max number in a string\n",
    "print(max(numStrLst))\n",
    "\n",
    "# Max alphabet in string by converting the alphabets in to ASCII values (google ASCII)\n",
    "print(max(wrdLst))"
   ]
  },
  {
   "cell_type": "code",
   "execution_count": 32,
   "id": "62cbba33",
   "metadata": {},
   "outputs": [],
   "source": [
    "def ex1(args1):\n",
    "    print(\"Argument Passed\")\n",
    "    \n",
    "def ex2():\n",
    "    print(\"Argument Not Passed\")"
   ]
  },
  {
   "cell_type": "code",
   "execution_count": 33,
   "id": "81bb180f",
   "metadata": {},
   "outputs": [
    {
     "name": "stdout",
     "output_type": "stream",
     "text": [
      "Argument Passed\n",
      "Argument Not Passed\n"
     ]
    }
   ],
   "source": [
    "ex1(\"hello\") # Should pass an argument\n",
    "ex2()        # Should not pass an argument"
   ]
  },
  {
   "cell_type": "code",
   "execution_count": 34,
   "id": "380b0c3e",
   "metadata": {},
   "outputs": [
    {
     "name": "stdout",
     "output_type": "stream",
     "text": [
      "Hello\n",
      "Yo\n",
      "I'm a lumberjack, and I'm okay.\n",
      "I sleep all night and I work all day.\n",
      "7\n"
     ]
    }
   ],
   "source": [
    "x = 5\n",
    "print('Hello')\n",
    "\n",
    "def print_lyrics(): # function is defined but not called/ the statements in the functions is not executed.\n",
    "    print(\"I'm a lumberjack, and I'm okay.\")\n",
    "    print('I sleep all night and I work all day.')\n",
    "\n",
    "print('Yo')\n",
    "print_lyrics() # function will be called here\n",
    "x = x + 2\n",
    "print(x)\n"
   ]
  },
  {
   "cell_type": "code",
   "execution_count": 35,
   "id": "db6807ff",
   "metadata": {},
   "outputs": [],
   "source": [
    "def func1(args1):\n",
    "    print(\"hello\")\n",
    "    return args1 # return marks the end of the function and it ends the flow\n",
    "    "
   ]
  },
  {
   "cell_type": "code",
   "execution_count": 36,
   "id": "f0e80d74",
   "metadata": {},
   "outputs": [
    {
     "name": "stdout",
     "output_type": "stream",
     "text": [
      "hello\n",
      "world\n"
     ]
    }
   ],
   "source": [
    "print(func1(\"world\"))"
   ]
  },
  {
   "cell_type": "code",
   "execution_count": 40,
   "id": "bc03ef86",
   "metadata": {},
   "outputs": [],
   "source": [
    "# this is more efficient as it return flow as is\n",
    "def greet(lang):\n",
    "    if lang == 'es':\n",
    "        return 'Hola'\n",
    "    elif lang == 'fr':\n",
    "        return 'Bonjour'\n",
    "    else:\n",
    "        return 'Hello'\n",
    "\n",
    "# this is not efficient as its not returning as is and using a variable which takes additional memory\n",
    "def greet1(lang):\n",
    "    if lang == 'es':\n",
    "        a = 'Hola'\n",
    "    elif lang == 'fr':\n",
    "        a = 'Bonjour'\n",
    "    else:\n",
    "         a = 'Hello'\n",
    "    return a"
   ]
  },
  {
   "cell_type": "code",
   "execution_count": 42,
   "id": "2761d58f",
   "metadata": {},
   "outputs": [],
   "source": [
    "# keyward argument - the arguments that follow after one positinal argument/parameter that is provided with a value/initialization\n",
    "# Default/Optional arguments - For a keyword argumet/parameter a value that prodided in function \n",
    "# definition also When a default value is provided to a argument/parameter it becomes a optional argument\n",
    "# *args\n",
    "# *kwargs"
   ]
  },
  {
   "cell_type": "code",
   "execution_count": 13,
   "id": "0caac1e7",
   "metadata": {},
   "outputs": [],
   "source": [
    "def newFunc(arg1, arg2=\"old\", arg3=\"\"):\n",
    "    print(arg1)\n",
    "    print(arg2)\n",
    "    print(arg3)"
   ]
  },
  {
   "cell_type": "code",
   "execution_count": 16,
   "id": "bdb3018c",
   "metadata": {},
   "outputs": [
    {
     "name": "stdout",
     "output_type": "stream",
     "text": [
      "world\n",
      "old\n",
      "\n"
     ]
    }
   ],
   "source": [
    "# arg1 is provided because its a functional argument, \n",
    "# arg2 is keyword argument with a default value, hence arg2 default value will be taken\n",
    "# arg3 has a default value hence it can be left optional as well, \n",
    "# this can be applied top arg2 as well as it is also a keyword argument with a default value\n",
    "newFunc(\"world\") "
   ]
  },
  {
   "cell_type": "code",
   "execution_count": 30,
   "id": "802a6189",
   "metadata": {},
   "outputs": [],
   "source": [
    "# Adding a star to a parameter can make it a wildcard parameter \n",
    "# which will help in calling the function with mutiple positinal argument\n",
    "# each argument provided is sent as a tuple and \n",
    "# can be accessed by thier index in the order of position of the calling\n",
    "def wildcardArgs(*data):\n",
    "    print(data)\n",
    "    for arg in data:print(arg)"
   ]
  },
  {
   "cell_type": "code",
   "execution_count": 31,
   "id": "d37d6d16",
   "metadata": {},
   "outputs": [
    {
     "name": "stdout",
     "output_type": "stream",
     "text": [
      "('hello', 'how', 'are', 'you')\n",
      "hello\n",
      "how\n",
      "are\n",
      "you\n"
     ]
    }
   ],
   "source": [
    "wildcardArgs(\"hello\", \"how\", \"are\", \"you\")"
   ]
  },
  {
   "cell_type": "code",
   "execution_count": 38,
   "id": "fdfef44c",
   "metadata": {},
   "outputs": [
    {
     "name": "stdout",
     "output_type": "stream",
     "text": [
      "hello how \n",
      "hello are \n",
      "hello you \n"
     ]
    }
   ],
   "source": [
    "# every argument given after the wildcard argument must be provided as keyword argument only\n",
    "# how ever can be omitted if it has a default value\n",
    "# any number of positinal argument can be given before the wildcard argument\n",
    "def wildcardArgs2(args=\"\", *data, args2=\"\"):\n",
    "    for arg in data:\n",
    "        print(args, arg, args2)\n",
    "\n",
    "wildcardArgs2(\"hello\", \"how\", \"are\", \"you\", args2=\"\")"
   ]
  },
  {
   "cell_type": "code",
   "execution_count": 42,
   "id": "a2a460f3",
   "metadata": {},
   "outputs": [],
   "source": [
    "# Adding a double star to a parameter can make it a wildcard keywordparameter \n",
    "# which will help in calling the function with mutiple keyword argument only\n",
    "# each argument provided is sent in a dictionary as key value pairs and \n",
    "# arguments can be accessed by thier key.\n",
    "# every argument given after the wildcard keyword argument will be added to the dictionary\n",
    "# any number of positinal argument can be given before the wildcard argument\n",
    "def wildcardKwargs(arg1, **kwargs, arg2=\"\"):\n",
    "    print(arg1, kwargs)"
   ]
  },
  {
   "cell_type": "code",
   "execution_count": 45,
   "id": "37906b1d",
   "metadata": {},
   "outputs": [
    {
     "name": "stdout",
     "output_type": "stream",
     "text": [
      "hello {'item1': 'world', 'arg2': 'hi'}\n"
     ]
    }
   ],
   "source": [
    "wildcardKwargs(\"hello\", item1=\"world\", arg2=\"hi\")"
   ]
  },
  {
   "cell_type": "code",
   "execution_count": null,
   "id": "783be6a9",
   "metadata": {},
   "outputs": [],
   "source": [
    "# These wildcard arguments can be used together in combination for very generic implementation.\n",
    "def wildcardKwargs(*arg, **kwargs):"
   ]
  }
 ],
 "metadata": {
  "kernelspec": {
   "display_name": "Python 3 (ipykernel)",
   "language": "python",
   "name": "python3"
  },
  "language_info": {
   "codemirror_mode": {
    "name": "ipython",
    "version": 3
   },
   "file_extension": ".py",
   "mimetype": "text/x-python",
   "name": "python",
   "nbconvert_exporter": "python",
   "pygments_lexer": "ipython3",
   "version": "3.10.6"
  }
 },
 "nbformat": 4,
 "nbformat_minor": 5
}
