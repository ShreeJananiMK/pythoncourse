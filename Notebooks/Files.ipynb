{
 "cells": [
  {
   "cell_type": "code",
   "execution_count": 1,
   "id": "f7058b23",
   "metadata": {},
   "outputs": [],
   "source": [
    "# janani.txt\n",
    "# Janani -> file name\n",
    "# . -> seperator\n",
    "# . -> txt -> extension"
   ]
  },
  {
   "cell_type": "code",
   "execution_count": 2,
   "id": "fa911d00",
   "metadata": {},
   "outputs": [
    {
     "name": "stdout",
     "output_type": "stream",
     "text": [
      "Files.ipynb  sample.txt  Strings.ipynb\r\n"
     ]
    }
   ],
   "source": [
    "ls"
   ]
  },
  {
   "cell_type": "code",
   "execution_count": 18,
   "id": "47987371",
   "metadata": {},
   "outputs": [],
   "source": [
    "handle = open(\"sample.txt\", \"r\")"
   ]
  },
  {
   "cell_type": "code",
   "execution_count": 19,
   "id": "11a2da2e",
   "metadata": {},
   "outputs": [
    {
     "data": {
      "text/plain": [
       "<_io.TextIOWrapper name='sample.txt' mode='r' encoding='UTF-8'>"
      ]
     },
     "execution_count": 19,
     "metadata": {},
     "output_type": "execute_result"
    }
   ],
   "source": [
    "handle"
   ]
  },
  {
   "cell_type": "code",
   "execution_count": 27,
   "id": "b5620b2d",
   "metadata": {},
   "outputs": [],
   "source": [
    "# open the file for reading, does not atler the contents of the file\n",
    "handle = open(\"sample1.txt\", \"r\") # r -> read\n",
    "handle.close()"
   ]
  },
  {
   "cell_type": "code",
   "execution_count": 38,
   "id": "66d4f565",
   "metadata": {},
   "outputs": [],
   "source": [
    "# open a file for writing, clears the content of the file while opening\n",
    "handle2 = open(\"sample1.txt\", \"w\") # w -> write\n",
    "handle2.close()"
   ]
  },
  {
   "cell_type": "code",
   "execution_count": null,
   "id": "8d4b9d56",
   "metadata": {},
   "outputs": [],
   "source": [
    "# open a file for writing, clears the content of the file while opening, create a ne file if file path does not exists\n",
    "handle2 = open(\"sample1.txt\", \"w+\") # w+ -> safe write\n",
    "handle2.close()"
   ]
  },
  {
   "cell_type": "code",
   "execution_count": null,
   "id": "80cfcba4",
   "metadata": {},
   "outputs": [],
   "source": [
    "# open a file for writing, keeps the contents of the file intact\n",
    "handle2 = open(\"sample1.txt\", \"a\") # a -> append\n",
    "handle2.close()"
   ]
  },
  {
   "cell_type": "code",
   "execution_count": 29,
   "id": "fd66c6b5",
   "metadata": {},
   "outputs": [
    {
     "name": "stdout",
     "output_type": "stream",
     "text": [
      "Files.ipynb  sample1.txt  sample.txt  Strings.ipynb\r\n"
     ]
    }
   ],
   "source": [
    "ls"
   ]
  },
  {
   "cell_type": "code",
   "execution_count": 30,
   "id": "6f10880c",
   "metadata": {},
   "outputs": [],
   "source": [
    "# \"\\n\" -> new line chanrater"
   ]
  },
  {
   "cell_type": "code",
   "execution_count": 31,
   "id": "4e95a36b",
   "metadata": {},
   "outputs": [
    {
     "name": "stdout",
     "output_type": "stream",
     "text": [
      "Sample text: hello world\n",
      "Sample Text with tab: hello\tworld\n",
      "Sample Text with new line: hello\n",
      "world\n"
     ]
    }
   ],
   "source": [
    "print(\"Sample text: hello world\")\n",
    "print(\"Sample Text with tab: hello\\tworld\")\n",
    "print(\"Sample Text with new line: hello\\nworld\")"
   ]
  },
  {
   "cell_type": "code",
   "execution_count": 50,
   "id": "c69aa4da",
   "metadata": {
    "scrolled": true
   },
   "outputs": [
    {
     "name": "stdout",
     "output_type": "stream",
     "text": [
      "From stephen.marquard@uct.ac.za Sat Jan  5 09:14:16 2008\n",
      "\n",
      "Return-Path: <postmaster@collab.sakaiproject.org>\n",
      "\n",
      "Date: Sat, 5 Jan 2008 09:12:18 -0500\n",
      "\n",
      "To: source@collab.sakaiproject.org\n",
      "\n",
      "From: stephen.marquard@uct.ac.za\n",
      "\n",
      "Subject: [sakai] svn commit: r39772 - content/branches/\n",
      "\n",
      "\n",
      "\n",
      "Details: http://source.sakaiproject.org/viewsvn/?view=rev&rev=39772\n",
      "\n"
     ]
    }
   ],
   "source": [
    "handle = open(\"sample1.txt\", \"r\")\n",
    "for line in handle:\n",
    "    print(line)"
   ]
  },
  {
   "cell_type": "code",
   "execution_count": 40,
   "id": "95b0523a",
   "metadata": {},
   "outputs": [
    {
     "name": "stdout",
     "output_type": "stream",
     "text": [
      "Line Count: 8\n"
     ]
    }
   ],
   "source": [
    "fhand = open('sample.txt')\n",
    "count = 0\n",
    "for line in fhand:\n",
    "    count = count + 1\n",
    "print('Line Count:', count)\n"
   ]
  },
  {
   "cell_type": "code",
   "execution_count": 41,
   "id": "985c54c8",
   "metadata": {},
   "outputs": [],
   "source": [
    "fhand = open('sample.txt')\n",
    "fileContents = fhand.read()"
   ]
  },
  {
   "cell_type": "code",
   "execution_count": 46,
   "id": "1ebe4557",
   "metadata": {},
   "outputs": [
    {
     "data": {
      "text/plain": [
       "'From stephen.marquard@uct.ac.za Sat Jan  5 09:14:16 2008\\nReturn-Path: <postmaster@collab.sakaiproject.org>\\nDate: Sat, 5 Jan 2008 09:12:18 -0500\\nTo: source@collab.sakaiproject.org\\nFrom: stephen.marquard@uct.ac.za\\nSubject: [sakai] svn commit: r39772 - content/branches/\\n\\nDetails: http://source.sakaiproject.org/viewsvn/?view=rev&rev=39772'"
      ]
     },
     "execution_count": 46,
     "metadata": {},
     "output_type": "execute_result"
    }
   ],
   "source": [
    "fileContents"
   ]
  },
  {
   "cell_type": "code",
   "execution_count": 52,
   "id": "103a2f7e",
   "metadata": {},
   "outputs": [
    {
     "name": "stdout",
     "output_type": "stream",
     "text": [
      "From stephen.marquard@uct.ac.za Sat Jan  5 09:14:16 2008\n",
      "Return-Path: <postmaster@collab.sakaiproject.org>\n",
      "Date: Sat, 5 Jan 2008 09:12:18 -0500\n",
      "To: source@collab.sakaiproject.org\n",
      "From: stephen.marquard@uct.ac.za\n",
      "Subject: [sakai] svn commit: r39772 - content/branches/\n",
      "\n",
      "Details: http://source.sakaiproject.org/viewsvn/?view=rev&rev=39772\n"
     ]
    }
   ],
   "source": [
    "print(fileContents)"
   ]
  },
  {
   "cell_type": "code",
   "execution_count": 55,
   "id": "f72e1ee7",
   "metadata": {},
   "outputs": [
    {
     "data": {
      "text/plain": [
       "['From stephen.marquard@uct.ac.za Sat Jan  5 09:14:16 2008',\n",
       " 'Return-Path: <postmaster@collab.sakaiproject.org>',\n",
       " 'Date: Sat, 5 Jan 2008 09:12:18 -0500',\n",
       " 'To: source@collab.sakaiproject.org',\n",
       " 'From: stephen.marquard@uct.ac.za',\n",
       " 'Subject: [sakai] svn commit: r39772 - content/branches/',\n",
       " '',\n",
       " 'Details: http://source.sakaiproject.org/viewsvn/?view=rev&rev=39772']"
      ]
     },
     "execution_count": 55,
     "metadata": {},
     "output_type": "execute_result"
    }
   ],
   "source": [
    "fileContents.splitlines()"
   ]
  },
  {
   "cell_type": "code",
   "execution_count": 67,
   "id": "86f0f26d",
   "metadata": {},
   "outputs": [
    {
     "name": "stdout",
     "output_type": "stream",
     "text": [
      "Return-Path: <postmaster@collab.sakaiproject.org>\n",
      "Date: Sat, 5 Jan 2008 09:12:18 -0500\n",
      "To: source@collab.sakaiproject.org\n",
      "Subject: [sakai] svn commit: r39772 - content/branches/\n",
      "\n",
      "Details: http://source.sakaiproject.org/viewsvn/?view=rev&rev=39772\n"
     ]
    }
   ],
   "source": [
    "for lines in fileContents.splitlines():\n",
    "    lines = lines.strip()\n",
    "    if lines and lines.startswith('From'):\n",
    "        continue\n",
    "    print(lines)"
   ]
  },
  {
   "cell_type": "code",
   "execution_count": 69,
   "id": "cd846568",
   "metadata": {},
   "outputs": [
    {
     "name": "stdout",
     "output_type": "stream",
     "text": [
      "Return-Path: <postmaster@collab.sakaiproject.org>\n",
      "To: source@collab.sakaiproject.org\n",
      "Details: http://source.sakaiproject.org/viewsvn/?view=rev&rev=39772\n"
     ]
    }
   ],
   "source": [
    "for lines in fileContents.splitlines():\n",
    "    lines = lines.strip()\n",
    "    if \"sakaiproject\" in lines:\n",
    "        print(lines)"
   ]
  },
  {
   "cell_type": "code",
   "execution_count": 21,
   "id": "d19d777f",
   "metadata": {},
   "outputs": [],
   "source": [
    "content = \"\"\"Data, information, knowledge, and wisdom are closely related concepts, but each has its role concerning the other, \n",
    "and each term has its meaning. According to a common view, data is collected and analyzed; data only becomes information \n",
    "suitable for making decisions once it has been analyzed in some fashion.[8] One can say that the extent to which a set of \n",
    "data is informative to someone depends on the extent to which it is unexpected by that person. The amount of information \n",
    "contained in a data stream may be characterized by its Shannon entropy.\n",
    "\n",
    "Knowledge is the awareness of its environment that some entity possesses, whereas data merely communicate that knowledge. \n",
    "For example, the entry in a database specifying the height of Mount Everest is a datum that communicates a precisely-measured \n",
    "value. This measurement may be included in a book along with other data on Mount Everest to describe the mountain in a manner \n",
    "useful for those who wish to decide on the best method to climb it. An awareness the characteristics represented by these data \n",
    "is knowledge.\n",
    "\n",
    "Data is often assumed to be the least abstract concept, information the next least, and knowledge the most abstract.[9] \n",
    "In this view, data becomes information by interpretation; e.g., the height of Mount Everest is generally considered \"data\", \n",
    "A book on Mount Everest geological characteristics may be considered \"information\", and a climber's guidebook containing practical \n",
    "information on the best way to reach Mount Everest's peak may be considered \"knowledge\". \"Information\" bears a diversity of meanings \n",
    "that ranges from everyday usage to technical use. This view, however, has also been argued to reverse how data emerges from information, \n",
    "and information from knowledge.[10] Generally speaking, the concept of information is closely related to notions of constraint, \n",
    "communication, control, data, form, instruction, knowledge, meaning, mental stimulus, pattern, perception, and representation. \n",
    "Beynon-Davies uses the concept of a sign to differentiate between data and information; data is a series of symbols, while \n",
    "information occurs when the symbols are used to refer to something.[11][12]\n",
    "\n",
    "Before the development of computing devices and machines, people had to manually collect data and impose patterns on it. \n",
    "Since the development of computing devices and machines, these devices can also collect data. In the 2010s, computers are \n",
    "widely used in many fields to collect data and sort or process it, in disciplines ranging from marketing, analysis of social \n",
    "services usage by citizens to scientific research. These patterns in data are seen as information that can be used to enhance \n",
    "knowledge. These patterns may be interpreted as \"truth\" (though \"truth\" can be a subjective concept) and may be authorized as \n",
    "aesthetic and ethical criteria in some disciplines or cultures. Events that leave behind perceivable physical or virtual \n",
    "remains can be traced back through data. Marks are no longer considered data once the link between the mark and \n",
    "observation is broken.[13]\n",
    "\n",
    "Mechanical computing devices are classified according to how they represent data. An analog computer represents a datum as a \n",
    "voltage, distance, position, or other physical quantity. A digital computer represents a piece of data as a sequence of symbols \n",
    "drawn from a fixed alphabet. The most common digital computers use a binary alphabet, that is, an alphabet of two characters \n",
    "typically denoted \"0\" and \"1\". More familiar representations, such as numbers or letters, are then constructed from the binary \n",
    "Alphabet. Some special forms of data are distinguished. A computer program is a collection of data, which can be interpreted as \n",
    "instructions. Most computer languages make a distinction between programs and the other data on which programs operate, \n",
    "but in some languages, notably Lisp and similar languages, programs are essentially indistinguishable from other data. \n",
    "It is also useful to distinguish metadata, that is, a description of other data. A similar yet earlier term for metadata \n",
    "is \"ancillary data.\" The prototypical example of metadata is the library catalog, which is a description of the contents of books.\"\"\""
   ]
  },
  {
   "cell_type": "code",
   "execution_count": 22,
   "id": "acaa54f1",
   "metadata": {},
   "outputs": [],
   "source": [
    "data = content.split(\"\\n\")"
   ]
  },
  {
   "cell_type": "code",
   "execution_count": 23,
   "id": "f1e124c9",
   "metadata": {},
   "outputs": [
    {
     "data": {
      "text/plain": [
       "['Data, information, knowledge, and wisdom are closely related concepts, but each has its role concerning the other, ',\n",
       " 'and each term has its meaning. According to a common view, data is collected and analyzed; data only becomes information ',\n",
       " 'suitable for making decisions once it has been analyzed in some fashion.[8] One can say that the extent to which a set of ',\n",
       " 'data is informative to someone depends on the extent to which it is unexpected by that person. The amount of information ',\n",
       " 'contained in a data stream may be characterized by its Shannon entropy.',\n",
       " '',\n",
       " 'Knowledge is the awareness of its environment that some entity possesses, whereas data merely communicate that knowledge. ',\n",
       " 'For example, the entry in a database specifying the height of Mount Everest is a datum that communicates a precisely-measured ',\n",
       " 'value. This measurement may be included in a book along with other data on Mount Everest to describe the mountain in a manner ',\n",
       " 'useful for those who wish to decide on the best method to climb it. An awareness the characteristics represented by these data ',\n",
       " 'is knowledge.',\n",
       " '',\n",
       " 'Data is often assumed to be the least abstract concept, information the next least, and knowledge the most abstract.[9] ',\n",
       " 'In this view, data becomes information by interpretation; e.g., the height of Mount Everest is generally considered \"data\", ',\n",
       " 'A book on Mount Everest geological characteristics may be considered \"information\", and a climber\\'s guidebook containing practical ',\n",
       " 'information on the best way to reach Mount Everest\\'s peak may be considered \"knowledge\". \"Information\" bears a diversity of meanings ',\n",
       " 'that ranges from everyday usage to technical use. This view, however, has also been argued to reverse how data emerges from information, ',\n",
       " 'and information from knowledge.[10] Generally speaking, the concept of information is closely related to notions of constraint, ',\n",
       " 'communication, control, data, form, instruction, knowledge, meaning, mental stimulus, pattern, perception, and representation. ',\n",
       " 'Beynon-Davies uses the concept of a sign to differentiate between data and information; data is a series of symbols, while ',\n",
       " 'information occurs when the symbols are used to refer to something.[11][12]',\n",
       " '',\n",
       " 'Before the development of computing devices and machines, people had to manually collect data and impose patterns on it. ',\n",
       " 'Since the development of computing devices and machines, these devices can also collect data. In the 2010s, computers are ',\n",
       " 'widely used in many fields to collect data and sort or process it, in disciplines ranging from marketing, analysis of social ',\n",
       " 'services usage by citizens to scientific research. These patterns in data are seen as information that can be used to enhance ',\n",
       " 'knowledge. These patterns may be interpreted as \"truth\" (though \"truth\" can be a subjective concept) and may be authorized as ',\n",
       " 'aesthetic and ethical criteria in some disciplines or cultures. Events that leave behind perceivable physical or virtual ',\n",
       " 'remains can be traced back through data. Marks are no longer considered data once the link between the mark and ',\n",
       " 'observation is broken.[13]',\n",
       " '',\n",
       " 'Mechanical computing devices are classified according to how they represent data. An analog computer represents a datum as a ',\n",
       " 'voltage, distance, position, or other physical quantity. A digital computer represents a piece of data as a sequence of symbols ',\n",
       " 'drawn from a fixed alphabet. The most common digital computers use a binary alphabet, that is, an alphabet of two characters ',\n",
       " 'typically denoted \"0\" and \"1\". More familiar representations, such as numbers or letters, are then constructed from the binary ',\n",
       " 'Alphabet. Some special forms of data are distinguished. A computer program is a collection of data, which can be interpreted as ',\n",
       " 'instructions. Most computer languages make a distinction between programs and the other data on which programs operate, ',\n",
       " 'but in some languages, notably Lisp and similar languages, programs are essentially indistinguishable from other data. ',\n",
       " 'It is also useful to distinguish metadata, that is, a description of other data. A similar yet earlier term for metadata ',\n",
       " 'is \"ancillary data.\" The prototypical example of metadata is the library catalog, which is a description of the contents of books.']"
      ]
     },
     "execution_count": 23,
     "metadata": {},
     "output_type": "execute_result"
    }
   ],
   "source": [
    "data"
   ]
  },
  {
   "cell_type": "code",
   "execution_count": 24,
   "id": "f07215ee",
   "metadata": {},
   "outputs": [
    {
     "name": "stdout",
     "output_type": "stream",
     "text": [
      "Total lines:  40\n"
     ]
    }
   ],
   "source": [
    "totalLines = len(data)\n",
    "print('Total lines: ', totalLines)"
   ]
  },
  {
   "cell_type": "code",
   "execution_count": 26,
   "id": "3d9e1080",
   "metadata": {},
   "outputs": [
    {
     "name": "stdout",
     "output_type": "stream",
     "text": [
      "and each term has its meaning. According to a common view, data is collected and analyzed; data only becomes information \n",
      "A book on Mount Everest geological characteristics may be considered \"information\", and a climber's guidebook containing practical \n",
      "and information from knowledge.[10] Generally speaking, the concept of information is closely related to notions of constraint, \n",
      "aesthetic and ethical criteria in some disciplines or cultures. Events that leave behind perceivable physical or virtual \n",
      "Alphabet. Some special forms of data are distinguished. A computer program is a collection of data, which can be interpreted as \n"
     ]
    }
   ],
   "source": [
    "for lines in data:\n",
    "    if lines.lower().startswith('a'): # RHS is correct = LHS is not correct\n",
    "        print(lines)"
   ]
  },
  {
   "cell_type": "code",
   "execution_count": 34,
   "id": "71691152",
   "metadata": {},
   "outputs": [
    {
     "name": "stdout",
     "output_type": "stream",
     "text": [
      "Data, information, knowledge, and wisdom are closely related concepts, but each has its role concerning the other, \n",
      "and each term has its meaning. According to a common view, data is collected and analyzed; data only becomes information \n",
      "data is informative to someone depends on the extent to which it is unexpected by that person. The amount of information \n",
      "contained in a data stream may be characterized by its Shannon entropy.\n",
      "Knowledge is the awareness of its environment that some entity possesses, whereas data merely communicate that knowledge. \n",
      "For example, the entry in a database specifying the height of Mount Everest is a datum that communicates a precisely-measured \n",
      "value. This measurement may be included in a book along with other data on Mount Everest to describe the mountain in a manner \n",
      "useful for those who wish to decide on the best method to climb it. An awareness the characteristics represented by these data \n",
      "Data is often assumed to be the least abstract concept, information the next least, and knowledge the most abstract.[9] \n",
      "In this view, data becomes information by interpretation; e.g., the height of Mount Everest is generally considered \"data\", \n",
      "that ranges from everyday usage to technical use. This view, however, has also been argued to reverse how data emerges from information, \n",
      "communication, control, data, form, instruction, knowledge, meaning, mental stimulus, pattern, perception, and representation. \n",
      "Beynon-Davies uses the concept of a sign to differentiate between data and information; data is a series of symbols, while \n",
      "Before the development of computing devices and machines, people had to manually collect data and impose patterns on it. \n",
      "Since the development of computing devices and machines, these devices can also collect data. In the 2010s, computers are \n",
      "widely used in many fields to collect data and sort or process it, in disciplines ranging from marketing, analysis of social \n",
      "services usage by citizens to scientific research. These patterns in data are seen as information that can be used to enhance \n",
      "remains can be traced back through data. Marks are no longer considered data once the link between the mark and \n",
      "Mechanical computing devices are classified according to how they represent data. An analog computer represents a datum as a \n",
      "voltage, distance, position, or other physical quantity. A digital computer represents a piece of data as a sequence of symbols \n",
      "Alphabet. Some special forms of data are distinguished. A computer program is a collection of data, which can be interpreted as \n",
      "instructions. Most computer languages make a distinction between programs and the other data on which programs operate, \n",
      "but in some languages, notably Lisp and similar languages, programs are essentially indistinguishable from other data. \n",
      "It is also useful to distinguish metadata, that is, a description of other data. A similar yet earlier term for metadata \n",
      "is \"ancillary data.\" The prototypical example of metadata is the library catalog, which is a description of the contents of books.\n"
     ]
    }
   ],
   "source": [
    "file = data\n",
    "for line in file:\n",
    "    if line.lower().find('data') != -1:\n",
    "        print(line)"
   ]
  },
  {
   "cell_type": "code",
   "execution_count": 36,
   "id": "6da10602",
   "metadata": {},
   "outputs": [
    {
     "data": {
      "text/plain": [
       "4203"
      ]
     },
     "execution_count": 36,
     "metadata": {},
     "output_type": "execute_result"
    }
   ],
   "source": [
    "len(content)"
   ]
  },
  {
   "cell_type": "code",
   "execution_count": 38,
   "id": "436a8ea3",
   "metadata": {},
   "outputs": [
    {
     "data": {
      "text/plain": [
       "3"
      ]
     },
     "execution_count": 38,
     "metadata": {},
     "output_type": "execute_result"
    }
   ],
   "source": [
    "len('123')"
   ]
  },
  {
   "cell_type": "code",
   "execution_count": 39,
   "id": "753c88ba",
   "metadata": {},
   "outputs": [],
   "source": [
    "lst = list(range(10))"
   ]
  },
  {
   "cell_type": "code",
   "execution_count": 40,
   "id": "d5cbd3b0",
   "metadata": {},
   "outputs": [
    {
     "data": {
      "text/plain": [
       "[0, 1, 2, 3, 4, 5, 6, 7, 8, 9]"
      ]
     },
     "execution_count": 40,
     "metadata": {},
     "output_type": "execute_result"
    }
   ],
   "source": [
    "lst"
   ]
  },
  {
   "cell_type": "code",
   "execution_count": 41,
   "id": "99bb4e23",
   "metadata": {},
   "outputs": [
    {
     "data": {
      "text/plain": [
       "10"
      ]
     },
     "execution_count": 41,
     "metadata": {},
     "output_type": "execute_result"
    }
   ],
   "source": [
    "len(lst)"
   ]
  },
  {
   "cell_type": "code",
   "execution_count": null,
   "id": "f36f1644",
   "metadata": {},
   "outputs": [],
   "source": []
  }
 ],
 "metadata": {
  "kernelspec": {
   "display_name": "Python 3 (ipykernel)",
   "language": "python",
   "name": "python3"
  },
  "language_info": {
   "codemirror_mode": {
    "name": "ipython",
    "version": 3
   },
   "file_extension": ".py",
   "mimetype": "text/x-python",
   "name": "python",
   "nbconvert_exporter": "python",
   "pygments_lexer": "ipython3",
   "version": "3.10.6"
  }
 },
 "nbformat": 4,
 "nbformat_minor": 5
}
