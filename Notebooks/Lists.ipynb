{
 "cells": [
  {
   "cell_type": "raw",
   "id": "337a72cc",
   "metadata": {},
   "source": [
    "# List\n",
    "# Group of objects/ collection of objects\n",
    "# int string -> primitive data type\n",
    "# list -> collection data type"
   ]
  },
  {
   "cell_type": "code",
   "execution_count": 3,
   "id": "c06d9c4f",
   "metadata": {},
   "outputs": [
    {
     "name": "stdout",
     "output_type": "stream",
     "text": [
      "<class 'list'>\n",
      "<class 'list'>\n"
     ]
    }
   ],
   "source": [
    "listItem1 = []\n",
    "listItem2 = list()\n",
    "\n",
    "print(type(listItem1))\n",
    "print(type(listItem2))"
   ]
  },
  {
   "cell_type": "code",
   "execution_count": 4,
   "id": "45dd65b1",
   "metadata": {},
   "outputs": [],
   "source": [
    "listItem3 = [1, 2, 3]"
   ]
  },
  {
   "cell_type": "code",
   "execution_count": 5,
   "id": "b0e5a849",
   "metadata": {},
   "outputs": [
    {
     "name": "stdout",
     "output_type": "stream",
     "text": [
      "<class 'list'>\n"
     ]
    }
   ],
   "source": [
    "print(type(listItem3))"
   ]
  },
  {
   "cell_type": "code",
   "execution_count": 6,
   "id": "7bc9651f",
   "metadata": {},
   "outputs": [],
   "source": [
    "listItem4 = [\"p\" \"d\"]"
   ]
  },
  {
   "cell_type": "code",
   "execution_count": 7,
   "id": "f112ab11",
   "metadata": {},
   "outputs": [
    {
     "data": {
      "text/plain": [
       "['pd']"
      ]
     },
     "execution_count": 7,
     "metadata": {},
     "output_type": "execute_result"
    }
   ],
   "source": [
    "listItem4"
   ]
  },
  {
   "cell_type": "code",
   "execution_count": 10,
   "id": "6539f5d9",
   "metadata": {},
   "outputs": [],
   "source": [
    "listItem5 = [\"p\", \"d\"]"
   ]
  },
  {
   "cell_type": "code",
   "execution_count": 11,
   "id": "69ed658f",
   "metadata": {},
   "outputs": [
    {
     "data": {
      "text/plain": [
       "['p', 'd']"
      ]
     },
     "execution_count": 11,
     "metadata": {},
     "output_type": "execute_result"
    }
   ],
   "source": [
    "listItem5"
   ]
  },
  {
   "cell_type": "code",
   "execution_count": 17,
   "id": "66412555",
   "metadata": {},
   "outputs": [
    {
     "name": "stdout",
     "output_type": "stream",
     "text": [
      "[]\n",
      "False\n"
     ]
    }
   ],
   "source": [
    "li = []\n",
    "print(li)\n",
    "if li:\n",
    "    print(true)\n",
    "else:\n",
    "    print(False)"
   ]
  },
  {
   "cell_type": "code",
   "execution_count": 18,
   "id": "32bf08c6",
   "metadata": {},
   "outputs": [
    {
     "data": {
      "text/plain": [
       "[1, 'a', [1, 3, 5]]"
      ]
     },
     "execution_count": 18,
     "metadata": {},
     "output_type": "execute_result"
    }
   ],
   "source": [
    "li1 = [1, \"a\", [1, 3, 5]]\n",
    "li1"
   ]
  },
  {
   "cell_type": "code",
   "execution_count": 19,
   "id": "e31d7639",
   "metadata": {},
   "outputs": [],
   "source": [
    "li2 = list(range(1,10))"
   ]
  },
  {
   "cell_type": "code",
   "execution_count": 20,
   "id": "3986546c",
   "metadata": {},
   "outputs": [
    {
     "data": {
      "text/plain": [
       "[1, 2, 3, 4, 5, 6, 7, 8, 9]"
      ]
     },
     "execution_count": 20,
     "metadata": {},
     "output_type": "execute_result"
    }
   ],
   "source": [
    "li2"
   ]
  },
  {
   "cell_type": "code",
   "execution_count": 21,
   "id": "41db75cd",
   "metadata": {},
   "outputs": [
    {
     "data": {
      "text/plain": [
       "3"
      ]
     },
     "execution_count": 21,
     "metadata": {},
     "output_type": "execute_result"
    }
   ],
   "source": [
    "li2[2]"
   ]
  },
  {
   "cell_type": "code",
   "execution_count": 25,
   "id": "32e661c3",
   "metadata": {},
   "outputs": [
    {
     "name": "stdout",
     "output_type": "stream",
     "text": [
      "<class 'str'>\n"
     ]
    }
   ],
   "source": [
    "st = \"Fruit\"\n",
    "print(type(st))"
   ]
  },
  {
   "cell_type": "code",
   "execution_count": 23,
   "id": "8b4eb32d",
   "metadata": {},
   "outputs": [
    {
     "data": {
      "text/plain": [
       "'t'"
      ]
     },
     "execution_count": 23,
     "metadata": {},
     "output_type": "execute_result"
    }
   ],
   "source": [
    "st[4]"
   ]
  },
  {
   "cell_type": "code",
   "execution_count": 26,
   "id": "2a7089b3",
   "metadata": {},
   "outputs": [
    {
     "ename": "TypeError",
     "evalue": "'str' object does not support item assignment",
     "output_type": "error",
     "traceback": [
      "\u001b[0;31m---------------------------------------------------------------------------\u001b[0m",
      "\u001b[0;31mTypeError\u001b[0m                                 Traceback (most recent call last)",
      "\u001b[0;32m/tmp/ipykernel_2463939/3886855129.py\u001b[0m in \u001b[0;36m<module>\u001b[0;34m\u001b[0m\n\u001b[0;32m----> 1\u001b[0;31m \u001b[0mst\u001b[0m\u001b[0;34m[\u001b[0m\u001b[0;36m4\u001b[0m\u001b[0;34m]\u001b[0m \u001b[0;34m=\u001b[0m \u001b[0;34m\"r\"\u001b[0m\u001b[0;34m\u001b[0m\u001b[0;34m\u001b[0m\u001b[0m\n\u001b[0m",
      "\u001b[0;31mTypeError\u001b[0m: 'str' object does not support item assignment"
     ]
    }
   ],
   "source": [
    "st[4] = \"r\""
   ]
  },
  {
   "cell_type": "code",
   "execution_count": 39,
   "id": "37481eb1",
   "metadata": {},
   "outputs": [
    {
     "data": {
      "text/plain": [
       "list"
      ]
     },
     "execution_count": 39,
     "metadata": {},
     "output_type": "execute_result"
    }
   ],
   "source": [
    "# type conversion\n",
    "# Changing one data type to another\n",
    "sl = list(st)\n",
    "type(sl)"
   ]
  },
  {
   "cell_type": "code",
   "execution_count": 28,
   "id": "5bb353b8",
   "metadata": {},
   "outputs": [
    {
     "data": {
      "text/plain": [
       "['F', 'r', 'u', 'i', 't']"
      ]
     },
     "execution_count": 28,
     "metadata": {},
     "output_type": "execute_result"
    }
   ],
   "source": [
    "sl"
   ]
  },
  {
   "cell_type": "code",
   "execution_count": 31,
   "id": "30eea848",
   "metadata": {},
   "outputs": [],
   "source": [
    "sl[4] = \"r\""
   ]
  },
  {
   "cell_type": "code",
   "execution_count": 32,
   "id": "2d543782",
   "metadata": {},
   "outputs": [
    {
     "data": {
      "text/plain": [
       "['F', 'r', 'u', 'i', 'r']"
      ]
     },
     "execution_count": 32,
     "metadata": {},
     "output_type": "execute_result"
    }
   ],
   "source": [
    "sl"
   ]
  },
  {
   "cell_type": "code",
   "execution_count": 33,
   "id": "8fbde51a",
   "metadata": {},
   "outputs": [],
   "source": [
    "# imutable: to change a certain element/variable in a index, i need to change the entire variable.\n",
    "# mutable:  to change a certain element/variable in a index, i can used the index to change them."
   ]
  },
  {
   "cell_type": "code",
   "execution_count": 34,
   "id": "b884a38c",
   "metadata": {},
   "outputs": [
    {
     "data": {
      "text/plain": [
       "5"
      ]
     },
     "execution_count": 34,
     "metadata": {},
     "output_type": "execute_result"
    }
   ],
   "source": [
    "len(st)"
   ]
  },
  {
   "cell_type": "code",
   "execution_count": 35,
   "id": "01fa3a1e",
   "metadata": {},
   "outputs": [
    {
     "data": {
      "text/plain": [
       "5"
      ]
     },
     "execution_count": 35,
     "metadata": {},
     "output_type": "execute_result"
    }
   ],
   "source": [
    "len(sl)"
   ]
  },
  {
   "cell_type": "code",
   "execution_count": 36,
   "id": "788c750e",
   "metadata": {},
   "outputs": [],
   "source": [
    "# range( start=0, end=compulsory, step=1)"
   ]
  },
  {
   "cell_type": "code",
   "execution_count": 44,
   "id": "d83f652e",
   "metadata": {},
   "outputs": [
    {
     "name": "stdout",
     "output_type": "stream",
     "text": [
      "[0, 1, 2, 3, 4, 5, 6, 7, 8, 9]\n",
      "10\n"
     ]
    }
   ],
   "source": [
    "rl = list(range(10)) # start from 0 as default, go upto end -1\n",
    "print(rl)\n",
    "print(len(rl))"
   ]
  },
  {
   "cell_type": "code",
   "execution_count": 45,
   "id": "d520d6a3",
   "metadata": {},
   "outputs": [
    {
     "data": {
      "text/plain": [
       "9"
      ]
     },
     "execution_count": 45,
     "metadata": {},
     "output_type": "execute_result"
    }
   ],
   "source": [
    "rl[9]"
   ]
  },
  {
   "cell_type": "code",
   "execution_count": 47,
   "id": "1e91bffc",
   "metadata": {},
   "outputs": [
    {
     "ename": "SyntaxError",
     "evalue": "invalid syntax (2746253096.py, line 1)",
     "output_type": "error",
     "traceback": [
      "\u001b[0;36m  File \u001b[0;32m\"/tmp/ipykernel_2463939/2746253096.py\"\u001b[0;36m, line \u001b[0;32m1\u001b[0m\n\u001b[0;31m    len might be 10, but the index limit is always 10-1/ len - 1\u001b[0m\n\u001b[0m        ^\u001b[0m\n\u001b[0;31mSyntaxError\u001b[0m\u001b[0;31m:\u001b[0m invalid syntax\n"
     ]
    }
   ],
   "source": [
    "len might be 10, but the index limit is always 10-1/ len - 1\n",
    "rl[10]"
   ]
  },
  {
   "cell_type": "code",
   "execution_count": 50,
   "id": "e540b08b",
   "metadata": {},
   "outputs": [
    {
     "name": "stdout",
     "output_type": "stream",
     "text": [
      "[1, 2, 3, 4, 5, 6, 7, 8, 9]\n",
      "9\n"
     ]
    }
   ],
   "source": [
    "rl1 = list(range(1,10)) # start from 1, go upto end 10-1\n",
    "print(rl1)\n",
    "print(len(rl1))"
   ]
  },
  {
   "cell_type": "code",
   "execution_count": 51,
   "id": "cd0da286",
   "metadata": {},
   "outputs": [
    {
     "name": "stdout",
     "output_type": "stream",
     "text": [
      "[1, 3, 5, 7, 9, 11, 13, 15, 17, 19]\n",
      "10\n"
     ]
    }
   ],
   "source": [
    "rl2 = list(range(1,20,2)) # start from 0 as default, go upto end 20-1, skip 2 ahead\n",
    "print(rl2)\n",
    "print(len(rl2))"
   ]
  },
  {
   "cell_type": "code",
   "execution_count": 52,
   "id": "9e4901ab",
   "metadata": {},
   "outputs": [
    {
     "data": {
      "text/plain": [
       "[2, 4, 6, 8, 10, 12, 14, 16, 18]"
      ]
     },
     "execution_count": 52,
     "metadata": {},
     "output_type": "execute_result"
    }
   ],
   "source": [
    "list(range(2,20,2))"
   ]
  },
  {
   "cell_type": "code",
   "execution_count": 53,
   "id": "bcca9fde",
   "metadata": {},
   "outputs": [
    {
     "data": {
      "text/plain": [
       "[1, 3, 5, 7, 9, 11, 13, 15, 17, 19]"
      ]
     },
     "execution_count": 53,
     "metadata": {},
     "output_type": "execute_result"
    }
   ],
   "source": [
    "list(range(1,20,2))"
   ]
  },
  {
   "cell_type": "code",
   "execution_count": 54,
   "id": "51d55a6a",
   "metadata": {},
   "outputs": [],
   "source": [
    "s2 = \"fruits\""
   ]
  },
  {
   "cell_type": "code",
   "execution_count": 55,
   "id": "afa7158a",
   "metadata": {},
   "outputs": [
    {
     "name": "stdout",
     "output_type": "stream",
     "text": [
      "f\n",
      "r\n",
      "u\n",
      "i\n",
      "t\n",
      "s\n"
     ]
    }
   ],
   "source": [
    "for i in range(len(s2)):\n",
    "    print(s2[i])"
   ]
  },
  {
   "cell_type": "code",
   "execution_count": 58,
   "id": "86442af3",
   "metadata": {},
   "outputs": [
    {
     "name": "stdout",
     "output_type": "stream",
     "text": [
      "1\n",
      "a\n",
      "[1, 3, 5]\n",
      "--------------------\n",
      "1\n",
      "a\n",
      "[1, 3, 5]\n"
     ]
    }
   ],
   "source": [
    "for i in range(len(li1)):\n",
    "    print(li1[i])\n",
    "print(\"-\"*20)\n",
    "for i in li1:\n",
    "    print(i)"
   ]
  },
  {
   "cell_type": "code",
   "execution_count": 190,
   "id": "decfd97e",
   "metadata": {},
   "outputs": [],
   "source": [
    "lj = list(range(1,10))\n",
    "lj2 = list(range(10, 21))"
   ]
  },
  {
   "cell_type": "code",
   "execution_count": 191,
   "id": "544ce02b",
   "metadata": {},
   "outputs": [
    {
     "data": {
      "text/plain": [
       "[1, 2, 3, 4, 5, 6, 7, 8, 9]"
      ]
     },
     "execution_count": 191,
     "metadata": {},
     "output_type": "execute_result"
    }
   ],
   "source": [
    "lj"
   ]
  },
  {
   "cell_type": "code",
   "execution_count": 192,
   "id": "237a1932",
   "metadata": {},
   "outputs": [
    {
     "data": {
      "text/plain": [
       "[10, 11, 12, 13, 14, 15, 16, 17, 18, 19, 20]"
      ]
     },
     "execution_count": 192,
     "metadata": {},
     "output_type": "execute_result"
    }
   ],
   "source": [
    "lj2"
   ]
  },
  {
   "cell_type": "code",
   "execution_count": 69,
   "id": "36ce4f11",
   "metadata": {},
   "outputs": [],
   "source": [
    "lj4 = lj + lj2"
   ]
  },
  {
   "cell_type": "code",
   "execution_count": 193,
   "id": "f12053d6",
   "metadata": {},
   "outputs": [],
   "source": [
    "lj9 = lj2 + lj"
   ]
  },
  {
   "cell_type": "code",
   "execution_count": 194,
   "id": "9010db75",
   "metadata": {},
   "outputs": [
    {
     "data": {
      "text/plain": [
       "[1, 2, 3, 4, 5, 6, 7, 8, 9, 10, 11, 12, 13, 14, 15, 16, 17, 18, 19, 20]"
      ]
     },
     "execution_count": 194,
     "metadata": {},
     "output_type": "execute_result"
    }
   ],
   "source": [
    "lj4"
   ]
  },
  {
   "cell_type": "code",
   "execution_count": 195,
   "id": "1dc8e5fe",
   "metadata": {},
   "outputs": [
    {
     "data": {
      "text/plain": [
       "[10, 11, 12, 13, 14, 15, 16, 17, 18, 19, 20, 1, 2, 3, 4, 5, 6, 7, 8, 9]"
      ]
     },
     "execution_count": 195,
     "metadata": {},
     "output_type": "execute_result"
    }
   ],
   "source": [
    "lj9"
   ]
  },
  {
   "cell_type": "markdown",
   "id": "7fac6ccc",
   "metadata": {},
   "source": []
  },
  {
   "cell_type": "code",
   "execution_count": 67,
   "id": "ccbe84f4",
   "metadata": {},
   "outputs": [
    {
     "data": {
      "text/plain": [
       "[10, 11, 12, 13, 14, 15, 16, 17, 18, 19, 20, 1, 2, 3, 4, 5, 6, 7, 8, 9]"
      ]
     },
     "execution_count": 67,
     "metadata": {},
     "output_type": "execute_result"
    }
   ],
   "source": [
    "lj3"
   ]
  },
  {
   "cell_type": "code",
   "execution_count": 71,
   "id": "ea0391ff",
   "metadata": {},
   "outputs": [
    {
     "data": {
      "text/plain": [
       "[]"
      ]
     },
     "execution_count": 71,
     "metadata": {},
     "output_type": "execute_result"
    }
   ],
   "source": [
    "list(range(0,5,-1))"
   ]
  },
  {
   "cell_type": "code",
   "execution_count": 72,
   "id": "432924a8",
   "metadata": {},
   "outputs": [
    {
     "data": {
      "text/plain": [
       "[5, 4, 3, 2, 1]"
      ]
     },
     "execution_count": 72,
     "metadata": {},
     "output_type": "execute_result"
    }
   ],
   "source": [
    "list(range(5,0,-1))"
   ]
  },
  {
   "cell_type": "code",
   "execution_count": 73,
   "id": "7af997b4",
   "metadata": {},
   "outputs": [
    {
     "data": {
      "text/plain": [
       "[]"
      ]
     },
     "execution_count": 73,
     "metadata": {},
     "output_type": "execute_result"
    }
   ],
   "source": [
    "list(range(5,-1))"
   ]
  },
  {
   "cell_type": "code",
   "execution_count": 84,
   "id": "bb640d70",
   "metadata": {},
   "outputs": [
    {
     "name": "stdout",
     "output_type": "stream",
     "text": [
      "[1, 2, 3, 4, 5, 6, 7, 8, 9, 10, 11, 12, 13, 14, 15, 16, 17, 18, 19, 20]\n",
      "(0, 1) (1, 2) (2, 3) (3, 4) (4, 5) (5, 6) (6, 7) (7, 8) (8, 9) (9, 10) (10, 11) (11, 12) (12, 13) (13, 14) (14, 15) (15, 16) (16, 17) (17, 18) (18, 19) (19, 20) "
     ]
    }
   ],
   "source": [
    "print(lj4)\n",
    "for i in enumerate(lj4): print(i, end=\" \") "
   ]
  },
  {
   "cell_type": "code",
   "execution_count": 86,
   "id": "6668d647",
   "metadata": {},
   "outputs": [
    {
     "data": {
      "text/plain": [
       "[8, 9]"
      ]
     },
     "execution_count": 86,
     "metadata": {},
     "output_type": "execute_result"
    }
   ],
   "source": [
    "lj4[7:9] # list[start:end] -> start index to end index -1"
   ]
  },
  {
   "cell_type": "code",
   "execution_count": 92,
   "id": "c42d7999",
   "metadata": {},
   "outputs": [
    {
     "data": {
      "text/plain": [
       "[8, 9, 10, 11, 12, 13, 14]"
      ]
     },
     "execution_count": 92,
     "metadata": {},
     "output_type": "execute_result"
    }
   ],
   "source": [
    "# 8 to 14\n",
    "lj4[7:14]"
   ]
  },
  {
   "cell_type": "code",
   "execution_count": 93,
   "id": "bd49066e",
   "metadata": {},
   "outputs": [
    {
     "data": {
      "text/plain": [
       "[9, 10, 11, 12]"
      ]
     },
     "execution_count": 93,
     "metadata": {},
     "output_type": "execute_result"
    }
   ],
   "source": [
    "# 9 to 12\n",
    "lj4[8:12]"
   ]
  },
  {
   "cell_type": "code",
   "execution_count": 94,
   "id": "2e5f719b",
   "metadata": {},
   "outputs": [
    {
     "data": {
      "text/plain": [
       "[3, 4, 5, 6, 7, 8, 9, 10, 11, 12, 13]"
      ]
     },
     "execution_count": 94,
     "metadata": {},
     "output_type": "execute_result"
    }
   ],
   "source": [
    "# 3 to 13\n",
    "lj4[2:13]"
   ]
  },
  {
   "cell_type": "code",
   "execution_count": 95,
   "id": "f5768cb4",
   "metadata": {},
   "outputs": [
    {
     "data": {
      "text/plain": [
       "[3, 5, 7, 9, 11, 13]"
      ]
     },
     "execution_count": 95,
     "metadata": {},
     "output_type": "execute_result"
    }
   ],
   "source": [
    "# step -> 3rd option\n",
    "lj4[2:13:2]"
   ]
  },
  {
   "cell_type": "code",
   "execution_count": 96,
   "id": "ba2b59f7",
   "metadata": {},
   "outputs": [
    {
     "data": {
      "text/plain": [
       "[1, 2, 3, 4, 5, 6, 7, 8, 9, 10, 11, 12, 13, 14, 15, 16, 17, 18, 19, 20]"
      ]
     },
     "execution_count": 96,
     "metadata": {},
     "output_type": "execute_result"
    }
   ],
   "source": [
    "lj4[:]"
   ]
  },
  {
   "cell_type": "code",
   "execution_count": 97,
   "id": "fe078e4e",
   "metadata": {},
   "outputs": [
    {
     "data": {
      "text/plain": [
       "[20, 19, 18, 17, 16, 15, 14, 13, 12, 11, 10, 9, 8, 7, 6, 5, 4, 3, 2, 1]"
      ]
     },
     "execution_count": 97,
     "metadata": {},
     "output_type": "execute_result"
    }
   ],
   "source": [
    "lj4[::-1]"
   ]
  },
  {
   "cell_type": "code",
   "execution_count": 98,
   "id": "12a74494",
   "metadata": {},
   "outputs": [
    {
     "data": {
      "text/plain": [
       "[1, 2, 3, 4, 5, 6, 7, 8, 9, 10, 11, 12, 13]"
      ]
     },
     "execution_count": 98,
     "metadata": {},
     "output_type": "execute_result"
    }
   ],
   "source": [
    "lj4[:13]"
   ]
  },
  {
   "cell_type": "code",
   "execution_count": 99,
   "id": "a4303661",
   "metadata": {},
   "outputs": [
    {
     "data": {
      "text/plain": [
       "[5, 6, 7, 8, 9, 10, 11, 12, 13, 14, 15, 16, 17, 18, 19, 20]"
      ]
     },
     "execution_count": 99,
     "metadata": {},
     "output_type": "execute_result"
    }
   ],
   "source": [
    "lj4[4:]"
   ]
  },
  {
   "cell_type": "code",
   "execution_count": 100,
   "id": "a409e839",
   "metadata": {},
   "outputs": [
    {
     "data": {
      "text/plain": [
       "[1, 2, 3, 4, 5, 6, 7, 8, 9, 10, 11, 12, 13, 14, 15, 16, 17, 18, 19, 20]"
      ]
     },
     "execution_count": 100,
     "metadata": {},
     "output_type": "execute_result"
    }
   ],
   "source": [
    "lj4[::]"
   ]
  },
  {
   "cell_type": "code",
   "execution_count": 102,
   "id": "b37579db",
   "metadata": {},
   "outputs": [
    {
     "data": {
      "text/plain": [
       "1"
      ]
     },
     "execution_count": 102,
     "metadata": {},
     "output_type": "execute_result"
    }
   ],
   "source": [
    "lj4[0]"
   ]
  },
  {
   "cell_type": "code",
   "execution_count": 103,
   "id": "52e92e5c",
   "metadata": {},
   "outputs": [
    {
     "data": {
      "text/plain": [
       "20"
      ]
     },
     "execution_count": 103,
     "metadata": {},
     "output_type": "execute_result"
    }
   ],
   "source": [
    "lj4[-1]"
   ]
  },
  {
   "cell_type": "code",
   "execution_count": 104,
   "id": "2c0e0d95",
   "metadata": {},
   "outputs": [
    {
     "data": {
      "text/plain": [
       "16"
      ]
     },
     "execution_count": 104,
     "metadata": {},
     "output_type": "execute_result"
    }
   ],
   "source": [
    "lj4[-5]"
   ]
  },
  {
   "cell_type": "code",
   "execution_count": 119,
   "id": "aba8ac75",
   "metadata": {},
   "outputs": [
    {
     "name": "stdout",
     "output_type": "stream",
     "text": [
      "| 0 | 1 | 2 | 3 | 4 | 5 | 6 | 7 | 8 | 9 | 10 | 11 | 12 | 13 | 14 | 15 | 16 | 17 | 18 | 19 \n",
      "| 1 | 2 | 3 | 4 | 5 | 6 | 7 | 8 | 9 | 10 | 11 | 12 | 13 | 14 | 15 | 16 | 17 | 18 | 19 | 20 \n",
      "\n",
      "| -20 | -19 | -18 | -17 | -16 | -15 | -14 | -13 | -12 | -11 | -10 | -9 | -8 | -7 | -6 | -5 | -4 | -3 | -2 | -1 \n",
      "|  1 |  2 |  3 |  4 |  5 |  6 |  7 |  8 |  9 |  10 |  11 |  12 |  13 |  14 |  15 |  16 |  17 |  18 |  19 "
     ]
    }
   ],
   "source": [
    "for i in range(20):\n",
    "    print(\"| {} \".format(i), end=\"\")\n",
    "print()\n",
    "for i in range(1, 21):\n",
    "    print(\"| {} \".format(i), end=\"\")\n",
    "print()\n",
    "print()\n",
    "for i in range(20, 0, -1):\n",
    "    print(\"| -{} \".format(i), end=\"\")\n",
    "print()\n",
    "for i in range(1, 20):\n",
    "    print(\"|  {} \".format(i), end=\"\")\n",
    "\n",
    "# for positive index:\n",
    "# if there is n number\n",
    "# index is 0 to n-1\n",
    "\n",
    "# for negative index\n",
    "# if ther is n number\n",
    "# index is -n to -1"
   ]
  },
  {
   "cell_type": "code",
   "execution_count": 120,
   "id": "dc6b5e5c",
   "metadata": {},
   "outputs": [
    {
     "data": {
      "text/plain": [
       "[1, 2, 3, 4, 5, 6, 7, 8, 9, 10, 11, 12, 13, 14, 15, 16, 17, 18, 19, 20]"
      ]
     },
     "execution_count": 120,
     "metadata": {},
     "output_type": "execute_result"
    }
   ],
   "source": [
    "lj4"
   ]
  },
  {
   "cell_type": "code",
   "execution_count": 128,
   "id": "f884058e",
   "metadata": {},
   "outputs": [
    {
     "data": {
      "text/plain": [
       "[1, 2, 3, 4, 5, 6, 7, 8, 9, 10, 11, 12, 13, 14, 15, 16, 17, 18, 19, 20, 21]"
      ]
     },
     "execution_count": 128,
     "metadata": {},
     "output_type": "execute_result"
    }
   ],
   "source": [
    "# to add a element i will use append method\n",
    "lj4.append(21)\n",
    "lj4"
   ]
  },
  {
   "cell_type": "markdown",
   "id": "a48ad4c6",
   "metadata": {},
   "source": [
    "lj4"
   ]
  },
  {
   "cell_type": "code",
   "execution_count": 161,
   "id": "d9656428",
   "metadata": {},
   "outputs": [],
   "source": [
    "lj5 = list()\n",
    "lj5.append(\"hello\")\n",
    "lj5.append(\"world\")\n",
    "lj5.append(\"Janani\")\n",
    "lj5.append(\"Shachin\")"
   ]
  },
  {
   "cell_type": "code",
   "execution_count": 130,
   "id": "8ba31e6d",
   "metadata": {},
   "outputs": [
    {
     "data": {
      "text/plain": [
       "['hello', 'world', 'Janani', 'Shachin']"
      ]
     },
     "execution_count": 130,
     "metadata": {},
     "output_type": "execute_result"
    }
   ],
   "source": [
    "lj5"
   ]
  },
  {
   "cell_type": "code",
   "execution_count": 140,
   "id": "68e0a1e1",
   "metadata": {},
   "outputs": [
    {
     "name": "stdout",
     "output_type": "stream",
     "text": [
      "Char j multiply 0\n",
      "Char j multiply 1\n",
      "Char j multiply 2\n",
      "Char j multiply 3\n",
      "Char j multiply 4\n",
      "Char j multiply 5\n"
     ]
    }
   ],
   "source": [
    "j = \"j\"\n",
    "lj6 = []\n",
    "for i in range(6):\n",
    "    print(\"Char\", j, \"multiply\", i)\n",
    "    lj6.append(j*i)"
   ]
  },
  {
   "cell_type": "code",
   "execution_count": 141,
   "id": "041330b9",
   "metadata": {},
   "outputs": [
    {
     "data": {
      "text/plain": [
       "['', 'j', 'jj', 'jjj', 'jjjj', 'jjjjj']"
      ]
     },
     "execution_count": 141,
     "metadata": {},
     "output_type": "execute_result"
    }
   ],
   "source": [
    "lj6"
   ]
  },
  {
   "cell_type": "code",
   "execution_count": 134,
   "id": "cafb08f6",
   "metadata": {},
   "outputs": [
    {
     "data": {
      "text/plain": [
       "'FFFFFFFFFFFFFFFFFFFFFFFFFFFFFFFFFFFFFFFFFFFFFFFFFFFFFFFFFFFFFFFFFFFFFFFFFFFFFFFFFFFFFFFFFFFFFFFFFFFF'"
      ]
     },
     "execution_count": 134,
     "metadata": {},
     "output_type": "execute_result"
    }
   ],
   "source": [
    "\"F\" * 100"
   ]
  },
  {
   "cell_type": "code",
   "execution_count": 135,
   "id": "9eb2049d",
   "metadata": {},
   "outputs": [
    {
     "data": {
      "text/plain": [
       "'++++++++++'"
      ]
     },
     "execution_count": 135,
     "metadata": {},
     "output_type": "execute_result"
    }
   ],
   "source": [
    "\"+\"*10"
   ]
  },
  {
   "cell_type": "code",
   "execution_count": 145,
   "id": "232f415d",
   "metadata": {},
   "outputs": [
    {
     "data": {
      "text/plain": [
       "True"
      ]
     },
     "execution_count": 145,
     "metadata": {},
     "output_type": "execute_result"
    }
   ],
   "source": [
    "# to search in a list: use \"in\" keyword\n",
    "\"hello\" in lj5"
   ]
  },
  {
   "cell_type": "code",
   "execution_count": 146,
   "id": "dbea355e",
   "metadata": {},
   "outputs": [
    {
     "data": {
      "text/plain": [
       "False"
      ]
     },
     "execution_count": 146,
     "metadata": {},
     "output_type": "execute_result"
    }
   ],
   "source": [
    "\"Cat\" in lj5"
   ]
  },
  {
   "cell_type": "code",
   "execution_count": 147,
   "id": "e8c300bd",
   "metadata": {},
   "outputs": [
    {
     "name": "stdout",
     "output_type": "stream",
     "text": [
      "hello found\n"
     ]
    }
   ],
   "source": [
    "if \"hello\" in lj5:\n",
    "    print(\"hello found\")"
   ]
  },
  {
   "cell_type": "code",
   "execution_count": 148,
   "id": "56bb007b",
   "metadata": {},
   "outputs": [
    {
     "name": "stdout",
     "output_type": "stream",
     "text": [
      "cat not found\n"
     ]
    }
   ],
   "source": [
    "if \"cat\" in lj5:\n",
    "    print(\"cat found\")\n",
    "else:\n",
    "    print(\"cat not found\")"
   ]
  },
  {
   "cell_type": "code",
   "execution_count": 149,
   "id": "7726ef9d",
   "metadata": {},
   "outputs": [
    {
     "data": {
      "text/plain": [
       "True"
      ]
     },
     "execution_count": 149,
     "metadata": {},
     "output_type": "execute_result"
    }
   ],
   "source": [
    "sampleString = \"hello world\"\n",
    "\"hello\" in sampleString"
   ]
  },
  {
   "cell_type": "code",
   "execution_count": 156,
   "id": "ebcff7d2",
   "metadata": {},
   "outputs": [
    {
     "name": "stdout",
     "output_type": "stream",
     "text": [
      "append\n",
      "clear\n",
      "copy\n",
      "count\n",
      "extend\n",
      "index\n",
      "insert\n",
      "pop\n",
      "remove\n",
      "reverse\n",
      "sort\n"
     ]
    }
   ],
   "source": [
    "for i in dir(list):\n",
    "    if not i.startswith(\"__\"): print(i) "
   ]
  },
  {
   "cell_type": "code",
   "execution_count": 158,
   "id": "6d74bb5e",
   "metadata": {},
   "outputs": [
    {
     "name": "stdout",
     "output_type": "stream",
     "text": [
      "['hello', 'world', 'Janani', 'Shachin']\n"
     ]
    }
   ],
   "source": [
    "# to clear all elements in a list use clear()\n",
    "print(lj5)\n",
    "lj5.clear()"
   ]
  },
  {
   "cell_type": "code",
   "execution_count": 159,
   "id": "750938fd",
   "metadata": {},
   "outputs": [
    {
     "data": {
      "text/plain": [
       "[]"
      ]
     },
     "execution_count": 159,
     "metadata": {},
     "output_type": "execute_result"
    }
   ],
   "source": [
    "lj5"
   ]
  },
  {
   "cell_type": "code",
   "execution_count": 162,
   "id": "156daa82",
   "metadata": {},
   "outputs": [
    {
     "data": {
      "text/plain": [
       "['hello', 'world', 'Janani', 'Shachin']"
      ]
     },
     "execution_count": 162,
     "metadata": {},
     "output_type": "execute_result"
    }
   ],
   "source": [
    "lj5"
   ]
  },
  {
   "cell_type": "code",
   "execution_count": 163,
   "id": "f2d5a593",
   "metadata": {},
   "outputs": [],
   "source": [
    "lj7 = lj5"
   ]
  },
  {
   "cell_type": "code",
   "execution_count": 164,
   "id": "3ee5666d",
   "metadata": {},
   "outputs": [
    {
     "data": {
      "text/plain": [
       "['hello', 'world', 'Janani', 'Shachin']"
      ]
     },
     "execution_count": 164,
     "metadata": {},
     "output_type": "execute_result"
    }
   ],
   "source": [
    "lj7"
   ]
  },
  {
   "cell_type": "code",
   "execution_count": 165,
   "id": "f791012b",
   "metadata": {},
   "outputs": [],
   "source": [
    "lj7.append(\"pramod\")"
   ]
  },
  {
   "cell_type": "code",
   "execution_count": 166,
   "id": "f205f7a9",
   "metadata": {},
   "outputs": [
    {
     "data": {
      "text/plain": [
       "['hello', 'world', 'Janani', 'Shachin', 'pramod']"
      ]
     },
     "execution_count": 166,
     "metadata": {},
     "output_type": "execute_result"
    }
   ],
   "source": [
    "lj7"
   ]
  },
  {
   "cell_type": "code",
   "execution_count": 167,
   "id": "7783f363",
   "metadata": {},
   "outputs": [
    {
     "data": {
      "text/plain": [
       "['hello', 'world', 'Janani', 'Shachin', 'pramod']"
      ]
     },
     "execution_count": 167,
     "metadata": {},
     "output_type": "execute_result"
    }
   ],
   "source": [
    "lj5"
   ]
  },
  {
   "cell_type": "code",
   "execution_count": 168,
   "id": "5c110c3a",
   "metadata": {},
   "outputs": [],
   "source": [
    "# to copy and create a new memory reference u use copy function.\n",
    "lj8 = lj5.copy()"
   ]
  },
  {
   "cell_type": "code",
   "execution_count": 169,
   "id": "4b840332",
   "metadata": {},
   "outputs": [
    {
     "data": {
      "text/plain": [
       "['hello', 'world', 'Janani', 'Shachin', 'pramod']"
      ]
     },
     "execution_count": 169,
     "metadata": {},
     "output_type": "execute_result"
    }
   ],
   "source": [
    "lj8"
   ]
  },
  {
   "cell_type": "code",
   "execution_count": 170,
   "id": "81644bf4",
   "metadata": {},
   "outputs": [],
   "source": [
    "lj8.append(\"ishu\")"
   ]
  },
  {
   "cell_type": "code",
   "execution_count": 171,
   "id": "7a614ede",
   "metadata": {},
   "outputs": [
    {
     "data": {
      "text/plain": [
       "['hello', 'world', 'Janani', 'Shachin', 'pramod', 'ishu']"
      ]
     },
     "execution_count": 171,
     "metadata": {},
     "output_type": "execute_result"
    }
   ],
   "source": [
    "lj8"
   ]
  },
  {
   "cell_type": "code",
   "execution_count": 172,
   "id": "5751c2c9",
   "metadata": {},
   "outputs": [
    {
     "data": {
      "text/plain": [
       "['hello', 'world', 'Janani', 'Shachin', 'pramod']"
      ]
     },
     "execution_count": 172,
     "metadata": {},
     "output_type": "execute_result"
    }
   ],
   "source": [
    "lj5"
   ]
  },
  {
   "cell_type": "code",
   "execution_count": 174,
   "id": "7f043cfd",
   "metadata": {},
   "outputs": [],
   "source": [
    "lj4\n",
    "lj4.append(21)"
   ]
  },
  {
   "cell_type": "markdown",
   "id": "8337e823",
   "metadata": {},
   "source": [
    "#### "
   ]
  },
  {
   "cell_type": "code",
   "execution_count": 175,
   "id": "72c07b34",
   "metadata": {},
   "outputs": [
    {
     "data": {
      "text/plain": [
       "[1, 2, 3, 4, 5, 6, 7, 8, 9, 10, 11, 12, 13, 14, 15, 16, 17, 18, 19, 20, 21, 21]"
      ]
     },
     "execution_count": 175,
     "metadata": {},
     "output_type": "execute_result"
    }
   ],
   "source": [
    "lj4"
   ]
  },
  {
   "cell_type": "code",
   "execution_count": 176,
   "id": "5c0d8c82",
   "metadata": {},
   "outputs": [
    {
     "data": {
      "text/plain": [
       "2"
      ]
     },
     "execution_count": 176,
     "metadata": {},
     "output_type": "execute_result"
    }
   ],
   "source": [
    "# use count() to determine how many occurance/repition of the element exists in a list\n",
    "lj4.count(21)"
   ]
  },
  {
   "cell_type": "code",
   "execution_count": 177,
   "id": "b7b38b34",
   "metadata": {},
   "outputs": [
    {
     "data": {
      "text/plain": [
       "1"
      ]
     },
     "execution_count": 177,
     "metadata": {},
     "output_type": "execute_result"
    }
   ],
   "source": [
    "lj4.count(1)"
   ]
  },
  {
   "cell_type": "code",
   "execution_count": 179,
   "id": "b3206a91",
   "metadata": {},
   "outputs": [
    {
     "data": {
      "text/plain": [
       "[1, 2, 3, 4, 5, 6, 7, 8, 9, 10, 11, 12, 13, 14, 15, 16, 17, 18, 19, 20]"
      ]
     },
     "execution_count": 179,
     "metadata": {},
     "output_type": "execute_result"
    }
   ],
   "source": [
    "lj4 = lj + lj2\n",
    "lj4"
   ]
  },
  {
   "cell_type": "code",
   "execution_count": 196,
   "id": "30032661",
   "metadata": {},
   "outputs": [],
   "source": [
    "# to add items in one list to another\n",
    "lj.extend(lj2)"
   ]
  },
  {
   "cell_type": "code",
   "execution_count": 197,
   "id": "7499f942",
   "metadata": {},
   "outputs": [
    {
     "data": {
      "text/plain": [
       "[1, 2, 3, 4, 5, 6, 7, 8, 9, 10, 11, 12, 13, 14, 15, 16, 17, 18, 19, 20]"
      ]
     },
     "execution_count": 197,
     "metadata": {},
     "output_type": "execute_result"
    }
   ],
   "source": [
    "lj"
   ]
  },
  {
   "cell_type": "code",
   "execution_count": 184,
   "id": "c89a5da0",
   "metadata": {},
   "outputs": [
    {
     "data": {
      "text/plain": [
       "[10, 11, 12, 13, 14, 15, 16, 17, 18, 19, 20]"
      ]
     },
     "execution_count": 184,
     "metadata": {},
     "output_type": "execute_result"
    }
   ],
   "source": [
    "lj2"
   ]
  },
  {
   "cell_type": "code",
   "execution_count": 185,
   "id": "96111294",
   "metadata": {},
   "outputs": [],
   "source": [
    "lj2.append(lj)"
   ]
  },
  {
   "cell_type": "code",
   "execution_count": 187,
   "id": "f9013b88",
   "metadata": {},
   "outputs": [
    {
     "data": {
      "text/plain": [
       "[1, 2, 3, 4, 5, 6, 7, 8, 9, 10, 11, 12, 13, 14, 15, 16, 17, 18, 19, 20]"
      ]
     },
     "execution_count": 187,
     "metadata": {},
     "output_type": "execute_result"
    }
   ],
   "source": [
    "lj2[-1]"
   ]
  },
  {
   "cell_type": "code",
   "execution_count": 198,
   "id": "e6775e40",
   "metadata": {},
   "outputs": [],
   "source": [
    "# to retain the integrity and order of an list use concat\n",
    "# to retain the integrity of atleast one list or to maintain a master list use extend"
   ]
  },
  {
   "cell_type": "code",
   "execution_count": 200,
   "id": "151c3ba9",
   "metadata": {},
   "outputs": [
    {
     "data": {
      "text/plain": [
       "[1, 2, 3, 4, 5, 6, 7, 8, 9, 10, 11, 12, 13, 14, 15, 16, 17, 18, 19, 20]"
      ]
     },
     "execution_count": 200,
     "metadata": {},
     "output_type": "execute_result"
    }
   ],
   "source": [
    "lj"
   ]
  },
  {
   "cell_type": "code",
   "execution_count": 201,
   "id": "31381421",
   "metadata": {},
   "outputs": [
    {
     "data": {
      "text/plain": [
       "13"
      ]
     },
     "execution_count": 201,
     "metadata": {},
     "output_type": "execute_result"
    }
   ],
   "source": [
    "# to find a index of a element in a list u use index()\n",
    "lj.index(14)"
   ]
  },
  {
   "cell_type": "code",
   "execution_count": 203,
   "id": "dea5766a",
   "metadata": {},
   "outputs": [],
   "source": [
    "# append will add an element to the end of the list\n",
    "# but inset will insert an element into any position provided\n",
    "# example: list.insert(index, value)\n",
    "lj.insert(1, \"hello\")"
   ]
  },
  {
   "cell_type": "code",
   "execution_count": 204,
   "id": "6f3fef52",
   "metadata": {},
   "outputs": [
    {
     "data": {
      "text/plain": [
       "[1,\n",
       " 'hello',\n",
       " 2,\n",
       " 3,\n",
       " 4,\n",
       " 5,\n",
       " 6,\n",
       " 7,\n",
       " 8,\n",
       " 9,\n",
       " 10,\n",
       " 11,\n",
       " 12,\n",
       " 13,\n",
       " 14,\n",
       " 15,\n",
       " 16,\n",
       " 17,\n",
       " 18,\n",
       " 19,\n",
       " 20]"
      ]
     },
     "execution_count": 204,
     "metadata": {},
     "output_type": "execute_result"
    }
   ],
   "source": [
    "lj"
   ]
  },
  {
   "cell_type": "code",
   "execution_count": 205,
   "id": "b90c3099",
   "metadata": {},
   "outputs": [
    {
     "data": {
      "text/plain": [
       "20"
      ]
     },
     "execution_count": 205,
     "metadata": {},
     "output_type": "execute_result"
    }
   ],
   "source": [
    "# pop() will remove the element at the end of the list\n",
    "lj.pop()"
   ]
  },
  {
   "cell_type": "code",
   "execution_count": 207,
   "id": "2fcc11e6",
   "metadata": {},
   "outputs": [
    {
     "data": {
      "text/plain": [
       "'hello'"
      ]
     },
     "execution_count": 207,
     "metadata": {},
     "output_type": "execute_result"
    }
   ],
   "source": [
    "# pop(index) will remove the item in the index\n",
    "lj.pop(1)"
   ]
  },
  {
   "cell_type": "code",
   "execution_count": 208,
   "id": "f441efb5",
   "metadata": {},
   "outputs": [],
   "source": [
    "# remove(item) will remove the item from the list\n",
    "lj.remove(10)"
   ]
  },
  {
   "cell_type": "code",
   "execution_count": 209,
   "id": "e14097d7",
   "metadata": {},
   "outputs": [
    {
     "data": {
      "text/plain": [
       "[1, 2, 3, 4, 5, 6, 7, 8, 9, 11, 12, 13, 14, 15, 16, 17, 18, 19]"
      ]
     },
     "execution_count": 209,
     "metadata": {},
     "output_type": "execute_result"
    }
   ],
   "source": [
    "lj"
   ]
  },
  {
   "cell_type": "code",
   "execution_count": 210,
   "id": "b4e036f6",
   "metadata": {},
   "outputs": [],
   "source": [
    "# reverse() will reverse the order of the list\n",
    "lj.reverse()"
   ]
  },
  {
   "cell_type": "code",
   "execution_count": 211,
   "id": "cc35f2ec",
   "metadata": {},
   "outputs": [
    {
     "data": {
      "text/plain": [
       "[19, 18, 17, 16, 15, 14, 13, 12, 11, 9, 8, 7, 6, 5, 4, 3, 2, 1]"
      ]
     },
     "execution_count": 211,
     "metadata": {},
     "output_type": "execute_result"
    }
   ],
   "source": [
    "lj"
   ]
  },
  {
   "cell_type": "code",
   "execution_count": 251,
   "id": "2af8018a",
   "metadata": {},
   "outputs": [],
   "source": [
    "lj9 = [3, 2, 9, 7, 100, 23, 56, 90]"
   ]
  },
  {
   "cell_type": "code",
   "execution_count": 256,
   "id": "767c1172",
   "metadata": {},
   "outputs": [],
   "source": [
    "lj9.sort(reverse=True)"
   ]
  },
  {
   "cell_type": "code",
   "execution_count": 257,
   "id": "4ddbf1c0",
   "metadata": {},
   "outputs": [
    {
     "data": {
      "text/plain": [
       "[100, 90, 56, 23, 9, 7, 3, 2]"
      ]
     },
     "execution_count": 257,
     "metadata": {},
     "output_type": "execute_result"
    }
   ],
   "source": [
    "lj9"
   ]
  },
  {
   "cell_type": "code",
   "execution_count": 258,
   "id": "b611f915",
   "metadata": {},
   "outputs": [],
   "source": [
    "lj9.sort(reverse=False)"
   ]
  },
  {
   "cell_type": "code",
   "execution_count": 259,
   "id": "9a3bde4b",
   "metadata": {},
   "outputs": [
    {
     "data": {
      "text/plain": [
       "[2, 3, 7, 9, 23, 56, 90, 100]"
      ]
     },
     "execution_count": 259,
     "metadata": {},
     "output_type": "execute_result"
    }
   ],
   "source": [
    "lj9"
   ]
  },
  {
   "cell_type": "code",
   "execution_count": 225,
   "id": "26b11347",
   "metadata": {},
   "outputs": [
    {
     "data": {
      "text/plain": [
       "100"
      ]
     },
     "execution_count": 225,
     "metadata": {},
     "output_type": "execute_result"
    }
   ],
   "source": [
    "# max() will give the biggest element in the list\n",
    "max(lj9)"
   ]
  },
  {
   "cell_type": "code",
   "execution_count": 237,
   "id": "10a39d0a",
   "metadata": {},
   "outputs": [
    {
     "data": {
      "text/plain": [
       "['hello', 'world', 'Janani', 'Shachin', 'pramod', 'wrath']"
      ]
     },
     "execution_count": 237,
     "metadata": {},
     "output_type": "execute_result"
    }
   ],
   "source": [
    "lj5.append(\"wrath\")\n",
    "lj5"
   ]
  },
  {
   "cell_type": "code",
   "execution_count": 238,
   "id": "28a1ffe6",
   "metadata": {},
   "outputs": [
    {
     "name": "stdout",
     "output_type": "stream",
     "text": [
      "wrath\n"
     ]
    }
   ],
   "source": [
    "print(max(lj5))"
   ]
  },
  {
   "cell_type": "code",
   "execution_count": 240,
   "id": "3889cc7c",
   "metadata": {},
   "outputs": [
    {
     "data": {
      "text/plain": [
       "'Janani'"
      ]
     },
     "execution_count": 240,
     "metadata": {},
     "output_type": "execute_result"
    }
   ],
   "source": [
    "# min will give the smallest number in the list\n",
    "min(lj5)"
   ]
  },
  {
   "cell_type": "code",
   "execution_count": 241,
   "id": "8fec558f",
   "metadata": {},
   "outputs": [
    {
     "data": {
      "text/plain": [
       "2"
      ]
     },
     "execution_count": 241,
     "metadata": {},
     "output_type": "execute_result"
    }
   ],
   "source": [
    "min(lj9)"
   ]
  },
  {
   "cell_type": "code",
   "execution_count": 242,
   "id": "92749871",
   "metadata": {},
   "outputs": [
    {
     "data": {
      "text/plain": [
       "290"
      ]
     },
     "execution_count": 242,
     "metadata": {},
     "output_type": "execute_result"
    }
   ],
   "source": [
    "# sum will add all the elements of the list\n",
    "sum(lj9)"
   ]
  },
  {
   "cell_type": "code",
   "execution_count": 243,
   "id": "080e274d",
   "metadata": {},
   "outputs": [
    {
     "ename": "TypeError",
     "evalue": "unsupported operand type(s) for +: 'int' and 'str'",
     "output_type": "error",
     "traceback": [
      "\u001b[0;31m---------------------------------------------------------------------------\u001b[0m",
      "\u001b[0;31mTypeError\u001b[0m                                 Traceback (most recent call last)",
      "\u001b[0;32m/tmp/ipykernel_2463939/1317425575.py\u001b[0m in \u001b[0;36m<module>\u001b[0;34m\u001b[0m\n\u001b[0;32m----> 1\u001b[0;31m \u001b[0msum\u001b[0m\u001b[0;34m(\u001b[0m\u001b[0mlj5\u001b[0m\u001b[0;34m)\u001b[0m\u001b[0;34m\u001b[0m\u001b[0;34m\u001b[0m\u001b[0m\n\u001b[0m",
      "\u001b[0;31mTypeError\u001b[0m: unsupported operand type(s) for +: 'int' and 'str'"
     ]
    }
   ],
   "source": [
    "sum(lj5)"
   ]
  },
  {
   "cell_type": "code",
   "execution_count": 244,
   "id": "5b11dae1",
   "metadata": {},
   "outputs": [
    {
     "data": {
      "text/plain": [
       "[3, 2, 9, 7, 100, 23, 56, 90]"
      ]
     },
     "execution_count": 244,
     "metadata": {},
     "output_type": "execute_result"
    }
   ],
   "source": [
    "lj9"
   ]
  },
  {
   "cell_type": "code",
   "execution_count": 245,
   "id": "eed78316",
   "metadata": {},
   "outputs": [
    {
     "data": {
      "text/plain": [
       "36.25"
      ]
     },
     "execution_count": 245,
     "metadata": {},
     "output_type": "execute_result"
    }
   ],
   "source": [
    "# average of a list can be found by sum()/len()\n",
    "sum(lj9)/len(lj9)"
   ]
  },
  {
   "cell_type": "code",
   "execution_count": 246,
   "id": "e7d1bea5",
   "metadata": {},
   "outputs": [],
   "source": [
    "lj10 = lj9.copy()"
   ]
  },
  {
   "cell_type": "code",
   "execution_count": 247,
   "id": "fc9b8c26",
   "metadata": {},
   "outputs": [],
   "source": [
    "lj10.append(\"sample\")"
   ]
  },
  {
   "cell_type": "code",
   "execution_count": 248,
   "id": "df93583f",
   "metadata": {},
   "outputs": [
    {
     "ename": "TypeError",
     "evalue": "unsupported operand type(s) for +: 'int' and 'str'",
     "output_type": "error",
     "traceback": [
      "\u001b[0;31m---------------------------------------------------------------------------\u001b[0m",
      "\u001b[0;31mTypeError\u001b[0m                                 Traceback (most recent call last)",
      "\u001b[0;32m/tmp/ipykernel_2463939/2643035839.py\u001b[0m in \u001b[0;36m<module>\u001b[0;34m\u001b[0m\n\u001b[0;32m----> 1\u001b[0;31m \u001b[0msum\u001b[0m\u001b[0;34m(\u001b[0m\u001b[0mlj10\u001b[0m\u001b[0;34m)\u001b[0m\u001b[0;34m\u001b[0m\u001b[0;34m\u001b[0m\u001b[0m\n\u001b[0m",
      "\u001b[0;31mTypeError\u001b[0m: unsupported operand type(s) for +: 'int' and 'str'"
     ]
    }
   ],
   "source": [
    "sum(lj10)"
   ]
  },
  {
   "cell_type": "code",
   "execution_count": 260,
   "id": "a63ed0ae",
   "metadata": {},
   "outputs": [],
   "source": [
    "str2 = \"In common usage data (US: /ˈdætə/; UK: /ˈdeɪtə/) is a collection of discrete or continuous values that convey information, describing the quantity, quality, fact, statistics, other basic units of meaning, or simply sequences of symbols that may be further interpreted formally. A datum is an individual value in a collection of data. Data is usually organized into structures such as tables that provide additional context and meaning, and which may themselves be used as data in larger structures. Data may be used as variables in a computational process.[1][2] Data may represent abstract ideas or concrete measurements.[3] Data is commonly used in scientific research, economics, and in virtually every other form of human organizational activity. Examples of data sets include price indices (such as consumer price index), unemployment rates, literacy rates, and census data. In this context, data represents the raw facts and figures from which useful information can be extracted.\""
   ]
  },
  {
   "cell_type": "code",
   "execution_count": 261,
   "id": "cd29f54d",
   "metadata": {},
   "outputs": [
    {
     "data": {
      "text/plain": [
       "'In common usage data (US: /ˈdætə/; UK: /ˈdeɪtə/) is a collection of discrete or continuous values that convey information, describing the quantity, quality, fact, statistics, other basic units of meaning, or simply sequences of symbols that may be further interpreted formally. A datum is an individual value in a collection of data. Data is usually organized into structures such as tables that provide additional context and meaning, and which may themselves be used as data in larger structures. Data may be used as variables in a computational process.[1][2] Data may represent abstract ideas or concrete measurements.[3] Data is commonly used in scientific research, economics, and in virtually every other form of human organizational activity. Examples of data sets include price indices (such as consumer price index), unemployment rates, literacy rates, and census data. In this context, data represents the raw facts and figures from which useful information can be extracted.'"
      ]
     },
     "execution_count": 261,
     "metadata": {},
     "output_type": "execute_result"
    }
   ],
   "source": [
    "str2"
   ]
  },
  {
   "cell_type": "code",
   "execution_count": 262,
   "id": "aa65196d",
   "metadata": {},
   "outputs": [],
   "source": [
    "lj11 = str2.split()"
   ]
  },
  {
   "cell_type": "code",
   "execution_count": 263,
   "id": "6d4bacd7",
   "metadata": {},
   "outputs": [
    {
     "data": {
      "text/plain": [
       "['In',\n",
       " 'common',\n",
       " 'usage',\n",
       " 'data',\n",
       " '(US:',\n",
       " '/ˈdætə/;',\n",
       " 'UK:',\n",
       " '/ˈdeɪtə/)',\n",
       " 'is',\n",
       " 'a',\n",
       " 'collection',\n",
       " 'of',\n",
       " 'discrete',\n",
       " 'or',\n",
       " 'continuous',\n",
       " 'values',\n",
       " 'that',\n",
       " 'convey',\n",
       " 'information,',\n",
       " 'describing',\n",
       " 'the',\n",
       " 'quantity,',\n",
       " 'quality,',\n",
       " 'fact,',\n",
       " 'statistics,',\n",
       " 'other',\n",
       " 'basic',\n",
       " 'units',\n",
       " 'of',\n",
       " 'meaning,',\n",
       " 'or',\n",
       " 'simply',\n",
       " 'sequences',\n",
       " 'of',\n",
       " 'symbols',\n",
       " 'that',\n",
       " 'may',\n",
       " 'be',\n",
       " 'further',\n",
       " 'interpreted',\n",
       " 'formally.',\n",
       " 'A',\n",
       " 'datum',\n",
       " 'is',\n",
       " 'an',\n",
       " 'individual',\n",
       " 'value',\n",
       " 'in',\n",
       " 'a',\n",
       " 'collection',\n",
       " 'of',\n",
       " 'data.',\n",
       " 'Data',\n",
       " 'is',\n",
       " 'usually',\n",
       " 'organized',\n",
       " 'into',\n",
       " 'structures',\n",
       " 'such',\n",
       " 'as',\n",
       " 'tables',\n",
       " 'that',\n",
       " 'provide',\n",
       " 'additional',\n",
       " 'context',\n",
       " 'and',\n",
       " 'meaning,',\n",
       " 'and',\n",
       " 'which',\n",
       " 'may',\n",
       " 'themselves',\n",
       " 'be',\n",
       " 'used',\n",
       " 'as',\n",
       " 'data',\n",
       " 'in',\n",
       " 'larger',\n",
       " 'structures.',\n",
       " 'Data',\n",
       " 'may',\n",
       " 'be',\n",
       " 'used',\n",
       " 'as',\n",
       " 'variables',\n",
       " 'in',\n",
       " 'a',\n",
       " 'computational',\n",
       " 'process.[1][2]',\n",
       " 'Data',\n",
       " 'may',\n",
       " 'represent',\n",
       " 'abstract',\n",
       " 'ideas',\n",
       " 'or',\n",
       " 'concrete',\n",
       " 'measurements.[3]',\n",
       " 'Data',\n",
       " 'is',\n",
       " 'commonly',\n",
       " 'used',\n",
       " 'in',\n",
       " 'scientific',\n",
       " 'research,',\n",
       " 'economics,',\n",
       " 'and',\n",
       " 'in',\n",
       " 'virtually',\n",
       " 'every',\n",
       " 'other',\n",
       " 'form',\n",
       " 'of',\n",
       " 'human',\n",
       " 'organizational',\n",
       " 'activity.',\n",
       " 'Examples',\n",
       " 'of',\n",
       " 'data',\n",
       " 'sets',\n",
       " 'include',\n",
       " 'price',\n",
       " 'indices',\n",
       " '(such',\n",
       " 'as',\n",
       " 'consumer',\n",
       " 'price',\n",
       " 'index),',\n",
       " 'unemployment',\n",
       " 'rates,',\n",
       " 'literacy',\n",
       " 'rates,',\n",
       " 'and',\n",
       " 'census',\n",
       " 'data.',\n",
       " 'In',\n",
       " 'this',\n",
       " 'context,',\n",
       " 'data',\n",
       " 'represents',\n",
       " 'the',\n",
       " 'raw',\n",
       " 'facts',\n",
       " 'and',\n",
       " 'figures',\n",
       " 'from',\n",
       " 'which',\n",
       " 'useful',\n",
       " 'information',\n",
       " 'can',\n",
       " 'be',\n",
       " 'extracted.']"
      ]
     },
     "execution_count": 263,
     "metadata": {},
     "output_type": "execute_result"
    }
   ],
   "source": [
    "lj11"
   ]
  },
  {
   "cell_type": "code",
   "execution_count": 264,
   "id": "b68280ba",
   "metadata": {},
   "outputs": [],
   "source": [
    "line = \"From stephen.marquard@uct.ac.za Sat Jan  5 09:14:16 2008\""
   ]
  },
  {
   "cell_type": "code",
   "execution_count": 265,
   "id": "d8fee56c",
   "metadata": {},
   "outputs": [
    {
     "data": {
      "text/plain": [
       "'From stephen.marquard@uct.ac.za Sat Jan  5 09:14:16 2008'"
      ]
     },
     "execution_count": 265,
     "metadata": {},
     "output_type": "execute_result"
    }
   ],
   "source": [
    "line"
   ]
  },
  {
   "cell_type": "code",
   "execution_count": 267,
   "id": "acd4ae91",
   "metadata": {},
   "outputs": [],
   "source": [
    "word = line.split()"
   ]
  },
  {
   "cell_type": "raw",
   "id": "66a3d5e3",
   "metadata": {},
   "source": [
    "word"
   ]
  },
  {
   "cell_type": "code",
   "execution_count": 268,
   "id": "b0868d28",
   "metadata": {},
   "outputs": [
    {
     "data": {
      "text/plain": [
       "['From', 'stephen.marquard@uct.ac.za', 'Sat', 'Jan', '5', '09:14:16', '2008']"
      ]
     },
     "execution_count": 268,
     "metadata": {},
     "output_type": "execute_result"
    }
   ],
   "source": [
    "word"
   ]
  },
  {
   "cell_type": "code",
   "execution_count": 269,
   "id": "f2bb2008",
   "metadata": {},
   "outputs": [
    {
     "data": {
      "text/plain": [
       "'stephen.marquard@uct.ac.za'"
      ]
     },
     "execution_count": 269,
     "metadata": {},
     "output_type": "execute_result"
    }
   ],
   "source": [
    "word[1]"
   ]
  },
  {
   "cell_type": "code",
   "execution_count": 270,
   "id": "609a381b",
   "metadata": {},
   "outputs": [
    {
     "data": {
      "text/plain": [
       "['stephen.marquard', 'uct.ac.za']"
      ]
     },
     "execution_count": 270,
     "metadata": {},
     "output_type": "execute_result"
    }
   ],
   "source": [
    "word[1].split(\"@\")"
   ]
  },
  {
   "cell_type": "code",
   "execution_count": null,
   "id": "0cc4cff9",
   "metadata": {},
   "outputs": [],
   "source": []
  }
 ],
 "metadata": {
  "kernelspec": {
   "display_name": "Python 3 (ipykernel)",
   "language": "python",
   "name": "python3"
  },
  "language_info": {
   "codemirror_mode": {
    "name": "ipython",
    "version": 3
   },
   "file_extension": ".py",
   "mimetype": "text/x-python",
   "name": "python",
   "nbconvert_exporter": "python",
   "pygments_lexer": "ipython3",
   "version": "3.10.6"
  }
 },
 "nbformat": 4,
 "nbformat_minor": 5
}
