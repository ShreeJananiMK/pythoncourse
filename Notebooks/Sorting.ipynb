{
 "cells": [
  {
   "cell_type": "code",
   "execution_count": 89,
   "id": "bac9935a",
   "metadata": {},
   "outputs": [],
   "source": [
    "inputList = [83, 32, 74, 68, 56, 47, 29, 12, 74, 15]"
   ]
  },
  {
   "cell_type": "code",
   "execution_count": 90,
   "id": "63826b67",
   "metadata": {},
   "outputs": [],
   "source": [
    "def smallestNumber(cList):\n",
    "    sNumber = 999\n",
    "    for x in cList:\n",
    "        if x < sNumber:\n",
    "            sNumber = x\n",
    "   \n",
    "    return sNumber\n",
    "   \n",
    "def compareList (newList,inputList):\n",
    "    tempList = []\n",
    "    for i in inputList:\n",
    "        if i not in newList:\n",
    "            tempList.append(i)\n",
    "    return tempList\n",
    " \n",
    "def sorting(inputList):\n",
    "    newList = []\n",
    "    for num in inputList:\n",
    "        sn = smallestNumber(compareList (newList,inputList))\n",
    "        if sn < 999:\n",
    "            newList.append(sn)\n",
    " \n",
    "    return newList"
   ]
  },
  {
   "cell_type": "code",
   "execution_count": 91,
   "id": "c3fb4a5d",
   "metadata": {},
   "outputs": [
    {
     "data": {
      "text/plain": [
       "[12, 15, 29, 32, 47, 56, 68, 74, 83]"
      ]
     },
     "execution_count": 91,
     "metadata": {},
     "output_type": "execute_result"
    }
   ],
   "source": [
    "sorting(inputList) # call(name); perName = \"Janani\"; call(perName)"
   ]
  },
  {
   "cell_type": "code",
   "execution_count": 105,
   "id": "9fcacbef",
   "metadata": {},
   "outputs": [],
   "source": [
    "def smallestNumber(lst):\n",
    "    sn = lst[0]\n",
    "    ret = -1\n",
    "    \n",
    "    for x in range(len(lst)):\n",
    "        if lst[x] < sn:\n",
    "            sn = lst[x]\n",
    "            ret = x\n",
    "\n",
    "    return ret"
   ]
  },
  {
   "cell_type": "code",
   "execution_count": 106,
   "id": "4570fba1",
   "metadata": {},
   "outputs": [],
   "source": [
    "# copy by value - > a = b, c = a, here all address are deifferent\n",
    "# copy by reference, shares same address of memory pointer\n",
    "def sorting(inputList):\n",
    "    tmpList = inputList.copy()\n",
    "    newList = []\n",
    "    \n",
    "    for num in inputList:\n",
    "        \n",
    "        idx = smallestNumber(tmpList)\n",
    "#          check for -1\n",
    "        newList.append(tmpList[idx])\n",
    "        \n",
    "        del tmpList[idx]\n",
    " \n",
    "    return newList"
   ]
  },
  {
   "cell_type": "code",
   "execution_count": 107,
   "id": "c326e78e",
   "metadata": {},
   "outputs": [
    {
     "data": {
      "text/plain": [
       "[12, 15, 29, 32, 47, 56, 68, 74, 74, 83]"
      ]
     },
     "execution_count": 107,
     "metadata": {},
     "output_type": "execute_result"
    }
   ],
   "source": [
    "inputList = [83, 32, 74, 68, 56, 47, 29, 12, 74, 15]\n",
    "sorting(inputList)"
   ]
  },
  {
   "cell_type": "code",
   "execution_count": 211,
   "id": "110ac2f7",
   "metadata": {},
   "outputs": [],
   "source": [
    "from copy import deepcopy\n",
    "a = 1\n",
    "c = deepcopy(a)"
   ]
  },
  {
   "cell_type": "code",
   "execution_count": 212,
   "id": "d6794fd1",
   "metadata": {},
   "outputs": [
    {
     "data": {
      "text/plain": [
       "140395764695280"
      ]
     },
     "execution_count": 212,
     "metadata": {},
     "output_type": "execute_result"
    }
   ],
   "source": [
    "id(a)"
   ]
  },
  {
   "cell_type": "code",
   "execution_count": 213,
   "id": "fb6efaa4",
   "metadata": {},
   "outputs": [
    {
     "data": {
      "text/plain": [
       "140395764695280"
      ]
     },
     "execution_count": 213,
     "metadata": {},
     "output_type": "execute_result"
    }
   ],
   "source": [
    "id(c)"
   ]
  },
  {
   "cell_type": "code",
   "execution_count": 136,
   "id": "4e5f8c3f",
   "metadata": {},
   "outputs": [
    {
     "data": {
      "text/plain": [
       "1"
      ]
     },
     "execution_count": 136,
     "metadata": {},
     "output_type": "execute_result"
    }
   ],
   "source": [
    "b"
   ]
  },
  {
   "cell_type": "code",
   "execution_count": 137,
   "id": "a75dff05",
   "metadata": {},
   "outputs": [
    {
     "data": {
      "text/plain": [
       "3"
      ]
     },
     "execution_count": 137,
     "metadata": {},
     "output_type": "execute_result"
    }
   ],
   "source": [
    "d"
   ]
  },
  {
   "cell_type": "code",
   "execution_count": 197,
   "id": "5425b911",
   "metadata": {},
   "outputs": [
    {
     "data": {
      "text/plain": [
       "140395764695280"
      ]
     },
     "execution_count": 197,
     "metadata": {},
     "output_type": "execute_result"
    }
   ],
   "source": [
    "id(b)"
   ]
  },
  {
   "cell_type": "code",
   "execution_count": 133,
   "id": "75c3c3d6",
   "metadata": {},
   "outputs": [
    {
     "data": {
      "text/plain": [
       "140395764695344"
      ]
     },
     "execution_count": 133,
     "metadata": {},
     "output_type": "execute_result"
    }
   ],
   "source": [
    "id(d)"
   ]
  },
  {
   "cell_type": "code",
   "execution_count": 198,
   "id": "bdf54040",
   "metadata": {},
   "outputs": [],
   "source": [
    "lst = list(range(10))"
   ]
  },
  {
   "cell_type": "code",
   "execution_count": 199,
   "id": "7f969ec3",
   "metadata": {},
   "outputs": [
    {
     "data": {
      "text/plain": [
       "140395704714304"
      ]
     },
     "execution_count": 199,
     "metadata": {},
     "output_type": "execute_result"
    }
   ],
   "source": [
    "id(lst)"
   ]
  },
  {
   "cell_type": "code",
   "execution_count": 200,
   "id": "6297e300",
   "metadata": {},
   "outputs": [],
   "source": [
    "lst2 = lst"
   ]
  },
  {
   "cell_type": "code",
   "execution_count": 201,
   "id": "e5292905",
   "metadata": {},
   "outputs": [
    {
     "data": {
      "text/plain": [
       "140395704714304"
      ]
     },
     "execution_count": 201,
     "metadata": {},
     "output_type": "execute_result"
    }
   ],
   "source": [
    "id(lst2)"
   ]
  },
  {
   "cell_type": "code",
   "execution_count": 202,
   "id": "806d1ee6",
   "metadata": {},
   "outputs": [
    {
     "data": {
      "text/plain": [
       "[0, 1, 2, 3, 4, 5, 6, 7, 8, 9]"
      ]
     },
     "execution_count": 202,
     "metadata": {},
     "output_type": "execute_result"
    }
   ],
   "source": [
    "lst"
   ]
  },
  {
   "cell_type": "code",
   "execution_count": 203,
   "id": "d1868ee1",
   "metadata": {},
   "outputs": [
    {
     "data": {
      "text/plain": [
       "[0, 1, 2, 3, 4, 5, 6, 7, 8, 9]"
      ]
     },
     "execution_count": 203,
     "metadata": {},
     "output_type": "execute_result"
    }
   ],
   "source": [
    "lst2"
   ]
  },
  {
   "cell_type": "code",
   "execution_count": 204,
   "id": "944d319d",
   "metadata": {},
   "outputs": [],
   "source": [
    "del lst[2]"
   ]
  },
  {
   "cell_type": "code",
   "execution_count": 205,
   "id": "2841bfbc",
   "metadata": {},
   "outputs": [
    {
     "data": {
      "text/plain": [
       "[0, 1, 3, 4, 5, 6, 7, 8, 9]"
      ]
     },
     "execution_count": 205,
     "metadata": {},
     "output_type": "execute_result"
    }
   ],
   "source": [
    "lst"
   ]
  },
  {
   "cell_type": "code",
   "execution_count": 206,
   "id": "799fbaef",
   "metadata": {},
   "outputs": [
    {
     "data": {
      "text/plain": [
       "[0, 1, 3, 4, 5, 6, 7, 8, 9]"
      ]
     },
     "execution_count": 206,
     "metadata": {},
     "output_type": "execute_result"
    }
   ],
   "source": [
    "lst2"
   ]
  },
  {
   "cell_type": "code",
   "execution_count": 207,
   "id": "2cace69b",
   "metadata": {},
   "outputs": [],
   "source": [
    "lst = list(range(10))"
   ]
  },
  {
   "cell_type": "code",
   "execution_count": 189,
   "id": "564d76f5",
   "metadata": {},
   "outputs": [],
   "source": [
    "from copy import deepcopy\n",
    "lst2 = deepcopy(lst)"
   ]
  },
  {
   "cell_type": "code",
   "execution_count": 190,
   "id": "06dab7a8",
   "metadata": {},
   "outputs": [
    {
     "data": {
      "text/plain": [
       "140395704624832"
      ]
     },
     "execution_count": 190,
     "metadata": {},
     "output_type": "execute_result"
    }
   ],
   "source": [
    "id(lst)"
   ]
  },
  {
   "cell_type": "code",
   "execution_count": 191,
   "id": "1aa325d4",
   "metadata": {},
   "outputs": [
    {
     "data": {
      "text/plain": [
       "140395722322880"
      ]
     },
     "execution_count": 191,
     "metadata": {},
     "output_type": "execute_result"
    }
   ],
   "source": [
    "id(lst2)"
   ]
  },
  {
   "cell_type": "code",
   "execution_count": 192,
   "id": "f50486e7",
   "metadata": {},
   "outputs": [],
   "source": [
    "del lst[2]"
   ]
  },
  {
   "cell_type": "code",
   "execution_count": 193,
   "id": "ee50e3bf",
   "metadata": {},
   "outputs": [
    {
     "data": {
      "text/plain": [
       "[0, 1, 3, 4, 5, 6, 7, 8, 9]"
      ]
     },
     "execution_count": 193,
     "metadata": {},
     "output_type": "execute_result"
    }
   ],
   "source": [
    "lst"
   ]
  },
  {
   "cell_type": "code",
   "execution_count": 194,
   "id": "ca1042bf",
   "metadata": {},
   "outputs": [
    {
     "data": {
      "text/plain": [
       "[0, 1, 2, 3, 4, 5, 6, 7, 8, 9]"
      ]
     },
     "execution_count": 194,
     "metadata": {},
     "output_type": "execute_result"
    }
   ],
   "source": [
    "lst2"
   ]
  },
  {
   "cell_type": "code",
   "execution_count": null,
   "id": "271996b8",
   "metadata": {},
   "outputs": [],
   "source": []
  }
 ],
 "metadata": {
  "kernelspec": {
   "display_name": "Python 3 (ipykernel)",
   "language": "python",
   "name": "python3"
  },
  "language_info": {
   "codemirror_mode": {
    "name": "ipython",
    "version": 3
   },
   "file_extension": ".py",
   "mimetype": "text/x-python",
   "name": "python",
   "nbconvert_exporter": "python",
   "pygments_lexer": "ipython3",
   "version": "3.10.6"
  }
 },
 "nbformat": 4,
 "nbformat_minor": 5
}
