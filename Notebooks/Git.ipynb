{
 "cells": [
  {
   "cell_type": "code",
   "execution_count": 1,
   "id": "e27b9ae6",
   "metadata": {},
   "outputs": [
    {
     "data": {
      "text/plain": [
       "'\\nInitialize a git repo using -> git init\\nTo get all the status of a repo -> git status\\nTo add inidividual files -> git add <filename>\\nto add all changed file -> git add .\\n'"
      ]
     },
     "execution_count": 1,
     "metadata": {},
     "output_type": "execute_result"
    }
   ],
   "source": [
    "\"\"\"\n",
    "Initialize a git repo using -> git init\n",
    "To get all the status of a repo -> git status\n",
    "To add inidividual files -> git add <filename>\n",
    "to add all changed file -> git add . / git add -A\n",
    "to commit changed files -> git commit -m \"message\"\n",
    "to get all branch names -> git branch\n",
    "to create a branch -> git branch <branchnamewithoutspacesbut_underscore_is_allowed>\n",
    "to switch to a branch -> git checkout <branchname>\n",
    "to see the difference -> git diff\n",
    "to see a specific file difference -> git diff <file>\n",
    "to merge a branch first switch to branch u need to merge with -> git merge <branchname>\n",
    "\n",
    "Go to git hub and create a repo\n",
    "copy the repo link\n",
    "in you repo directory add the remote directory: git remote add <repo_name> <repo_url>\n",
    "to push your code -> git push <remote_name> <branch_name>\n",
    "to pull your code -> git pull <remote_name> <branch_name>\n",
    "Note: before pushing your code, make sure pull once.\n",
    "\"\"\""
   ]
  },
  {
   "cell_type": "code",
   "execution_count": null,
   "id": "202b857a",
   "metadata": {},
   "outputs": [],
   "source": []
  }
 ],
 "metadata": {
  "kernelspec": {
   "display_name": "Python 3 (ipykernel)",
   "language": "python",
   "name": "python3"
  },
  "language_info": {
   "codemirror_mode": {
    "name": "ipython",
    "version": 3
   },
   "file_extension": ".py",
   "mimetype": "text/x-python",
   "name": "python",
   "nbconvert_exporter": "python",
   "pygments_lexer": "ipython3",
   "version": "3.10.6"
  }
 },
 "nbformat": 4,
 "nbformat_minor": 5
}
