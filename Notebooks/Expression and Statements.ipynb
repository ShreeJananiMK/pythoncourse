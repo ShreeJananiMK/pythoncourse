{
 "cells": [
  {
   "cell_type": "code",
   "execution_count": 1,
   "id": "81adfee5",
   "metadata": {},
   "outputs": [],
   "source": [
    "a = 4\n",
    "b = 5"
   ]
  },
  {
   "cell_type": "code",
   "execution_count": 4,
   "id": "271fbe38",
   "metadata": {},
   "outputs": [
    {
     "name": "stdout",
     "output_type": "stream",
     "text": [
      "4\n",
      "9\n",
      "5\n"
     ]
    }
   ],
   "source": [
    "print(a)\n",
    "a=a+b\n",
    "print(a)\n",
    "print(b)"
   ]
  },
  {
   "cell_type": "code",
   "execution_count": 5,
   "id": "97b3c023",
   "metadata": {},
   "outputs": [],
   "source": [
    "a = \"hello\""
   ]
  },
  {
   "cell_type": "code",
   "execution_count": 6,
   "id": "a5d132bc",
   "metadata": {},
   "outputs": [
    {
     "data": {
      "text/plain": [
       "'hello'"
      ]
     },
     "execution_count": 6,
     "metadata": {},
     "output_type": "execute_result"
    }
   ],
   "source": [
    "a"
   ]
  },
  {
   "cell_type": "code",
   "execution_count": 7,
   "id": "96dd8da9",
   "metadata": {},
   "outputs": [],
   "source": [
    "a = a.replace(\"o\", \"o!\")"
   ]
  },
  {
   "cell_type": "code",
   "execution_count": 8,
   "id": "24b6af06",
   "metadata": {},
   "outputs": [
    {
     "data": {
      "text/plain": [
       "'hello!'"
      ]
     },
     "execution_count": 8,
     "metadata": {},
     "output_type": "execute_result"
    }
   ],
   "source": [
    "a\n"
   ]
  },
  {
   "cell_type": "code",
   "execution_count": 14,
   "id": "48d6a8b4",
   "metadata": {},
   "outputs": [
    {
     "data": {
      "text/plain": [
       "str"
      ]
     },
     "execution_count": 14,
     "metadata": {},
     "output_type": "execute_result"
    }
   ],
   "source": [
    "# Modulus\n",
    "a = 3\n",
    "b = 8\n",
    "type(str(b/a))"
   ]
  },
  {
   "cell_type": "code",
   "execution_count": null,
   "id": "de49eec1",
   "metadata": {},
   "outputs": [],
   "source": [
    "PEDMAS\n",
    "\n",
    "P => Paranthesis \t-> ()\n",
    "E => Exponetion \t-> 2**2 (power)\n",
    "D => Division\t\t-> /\n",
    "M => Multiplication\t-> *\n",
    "A => Addition\t\t-> +\n",
    "S => Subtraction\t-> -"
   ]
  },
  {
   "cell_type": "code",
   "execution_count": null,
   "id": "27cfa499",
   "metadata": {},
   "outputs": [],
   "source": [
    "# Precedence\n",
    "# Expression -> Left to right\n",
    "# Assignment -> Right to left"
   ]
  }
 ],
 "metadata": {
  "kernelspec": {
   "display_name": "Python 3 (ipykernel)",
   "language": "python",
   "name": "python3"
  },
  "language_info": {
   "codemirror_mode": {
    "name": "ipython",
    "version": 3
   },
   "file_extension": ".py",
   "mimetype": "text/x-python",
   "name": "python",
   "nbconvert_exporter": "python",
   "pygments_lexer": "ipython3",
   "version": "3.10.6"
  }
 },
 "nbformat": 4,
 "nbformat_minor": 5
}
